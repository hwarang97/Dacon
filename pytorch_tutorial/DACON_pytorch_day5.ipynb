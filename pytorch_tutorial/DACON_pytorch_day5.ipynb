{
  "nbformat": 4,
  "nbformat_minor": 0,
  "metadata": {
    "colab": {
      "provenance": [],
      "authorship_tag": "ABX9TyOGBYNwn6d+aXqiHo8fmT0Y",
      "include_colab_link": true
    },
    "kernelspec": {
      "name": "python3",
      "display_name": "Python 3"
    },
    "language_info": {
      "name": "python"
    }
  },
  "cells": [
    {
      "cell_type": "markdown",
      "metadata": {
        "id": "view-in-github",
        "colab_type": "text"
      },
      "source": [
        "<a href=\"https://colab.research.google.com/github/hwarang97/Dacon/blob/main/pytorch_tutorial/DACON_pytorch_day5.ipynb\" target=\"_parent\"><img src=\"https://colab.research.google.com/assets/colab-badge.svg\" alt=\"Open In Colab\"/></a>"
      ]
    },
    {
      "cell_type": "markdown",
      "source": [
        "## reference \n",
        "\n",
        "url : https://dacon.io/codeshare/4551?page&dtype&ptype&fType"
      ],
      "metadata": {
        "id": "tdhp18u6jHJc"
      }
    },
    {
      "cell_type": "markdown",
      "source": [
        "# AutoEncoder 만들어보기"
      ],
      "metadata": {
        "id": "iMAkjZXkEFKt"
      }
    },
    {
      "cell_type": "code",
      "execution_count": null,
      "metadata": {
        "colab": {
          "base_uri": "https://localhost:8080/"
        },
        "id": "D5_81KLce_mL",
        "outputId": "22adc851-ddfe-4dcb-9882-7aa832336dad"
      },
      "outputs": [
        {
          "output_type": "stream",
          "name": "stdout",
          "text": [
            "Drive already mounted at /content/drive; to attempt to forcibly remount, call drive.mount(\"/content/drive\", force_remount=True).\n"
          ]
        }
      ],
      "source": [
        "import google.colab.drive as drive\n",
        "drive.mount('/content/drive')"
      ]
    },
    {
      "cell_type": "code",
      "source": [
        "import sys\n",
        "sys.path.append('/content/drive/MyDrive/Colab Notebooks')"
      ],
      "metadata": {
        "id": "Eu4QzUkAgyI0"
      },
      "execution_count": null,
      "outputs": []
    },
    {
      "cell_type": "code",
      "source": [
        "import matplotlib.pyplot as plt\n",
        "import numpy as np\n",
        "from dacon_functions1 import *\n",
        "from mpl_toolkits.mplot3d import Axes3D\n",
        "from matplotlib import cm"
      ],
      "metadata": {
        "id": "2XNgs908gnNF"
      },
      "execution_count": null,
      "outputs": []
    },
    {
      "cell_type": "code",
      "source": [
        "dataset_root = '/content/drive/MyDrive/Colab Notebooks/data'\n",
        "BATCH_SIZE = 64\n",
        "LR = 1e-3\n",
        "EPOCH = 10\n",
        "criterion = nn.MSELoss()\n",
        "model_type = 'AutoEncoder'\n",
        "data_type = 'FashionMNIST'\n",
        "is_new_training = False\n",
        "wanna_save = False\n",
        "save_path = f'/content/drive/MyDrive/Colab Notebooks/results/{model_type}_{data_type}.pt'"
      ],
      "metadata": {
        "id": "i_Y0idOqhRyM"
      },
      "execution_count": null,
      "outputs": []
    },
    {
      "cell_type": "code",
      "source": [
        "transform_train = transforms.Compose([transforms.ToTensor()])\n",
        "transform_test = transforms.ToTensor()\n",
        "trainset = datasets.FashionMNIST(dataset_root, train=True, transform=transform_train, download=True)\n",
        "testset = datasets.FashionMNIST(dataset_root, train=False, transform=transform_test, download=True)\n",
        "train_DL = DataLoader(trainset, batch_size=BATCH_SIZE, shuffle=True)\n",
        "test_DL = DataLoader(testset, batch_size=BATCH_SIZE, shuffle=True)"
      ],
      "metadata": {
        "id": "Fwdhl42EhA2U"
      },
      "execution_count": null,
      "outputs": []
    },
    {
      "cell_type": "code",
      "source": [
        "x_batch, y_batch = next(iter(train_DL))\n",
        "print(x_batch.shape)"
      ],
      "metadata": {
        "colab": {
          "base_uri": "https://localhost:8080/"
        },
        "id": "8Kwg7XAgCnCK",
        "outputId": "b4a2e108-7576-4f21-a4b8-dcbb5b1fa372"
      },
      "execution_count": null,
      "outputs": [
        {
          "output_type": "stream",
          "name": "stdout",
          "text": [
            "torch.Size([64, 1, 28, 28])\n"
          ]
        }
      ]
    },
    {
      "cell_type": "code",
      "source": [
        "class AutoEncoder(nn.Module):\n",
        "    def __init__(self):\n",
        "        super().__init__()\n",
        "        self.encoder = nn.Sequential(\n",
        "            nn.Linear(28*28, 100),\n",
        "            nn.ReLU(),\n",
        "            nn.Linear(100, 64),\n",
        "            nn.ReLU(),\n",
        "            nn.Linear(64, 32),\n",
        "            nn.ReLU(),\n",
        "            nn.Linear(32, 10)\n",
        "        )\n",
        "\n",
        "        self.decoder = nn.Sequential(\n",
        "            nn.Linear(10, 32),\n",
        "            nn.ReLU(),\n",
        "            nn.Linear(32,64),\n",
        "            nn.ReLU(),\n",
        "            nn.Linear(64,100),\n",
        "            nn.ReLU(),\n",
        "            nn.Linear(100, 28*28)\n",
        "        )\n",
        "    def forward(self, x):\n",
        "        x = torch.flatten(x, start_dim=1)\n",
        "        encoded = self.encoder(x) # latent variable\n",
        "        decoded = self.decoder(encoded)\n",
        "        decoded = decoded.reshape(-1,1,28,28)\n",
        "        return encoded, decoded"
      ],
      "metadata": {
        "id": "Q7abAzjBm0hD"
      },
      "execution_count": null,
      "outputs": []
    },
    {
      "cell_type": "code",
      "source": [
        "# model = AutoEncoder()\n",
        "# x = torch.randn(64,1,28,28)\n",
        "# out = model(x)\n",
        "# print(out[1].shape)"
      ],
      "metadata": {
        "id": "eRAuAVJ1EZrz"
      },
      "execution_count": null,
      "outputs": []
    },
    {
      "cell_type": "code",
      "source": [
        "def Train2(model, train_DL, optimizer, criterion, BATCH_SIZE, EPOCH):\n",
        "    model.train()\n",
        "    NoT = len(train_DL)\n",
        "    for epoch in range(1, EPOCH+1):\n",
        "        e_loss = 0\n",
        "        batch_count = 0\n",
        "\n",
        "        for x_batch, label in train_DL:\n",
        "            x_batch = x_batch.to(DEVICE)\n",
        "            y_batch = x_batch.to(DEVICE)\n",
        "            label = label.to(DEVICE)\n",
        "            _, y_hat = model(x_batch)\n",
        "            loss = criterion(y_hat, y_batch)\n",
        "            optimizer.zero_grad()\n",
        "            loss.backward()\n",
        "            optimizer.step()\n",
        "            b_loss = loss.item() * x_batch.shape[0]\n",
        "            e_loss += b_loss\n",
        "            batch_count += BATCH_SIZE\n",
        "\n",
        "            if batch_count% (BATCH_SIZE*200) ==0:\n",
        "                print(f'Train Epoch: {epoch} loss: {round(b_loss,5)}')\n",
        "\n",
        "        print(f'epoch: {epoch}  Train_loss: {round(e_loss/NoT,5)}')\n",
        "        print('-' * 25)"
      ],
      "metadata": {
        "id": "SzH8MnEPalBs"
      },
      "execution_count": null,
      "outputs": []
    },
    {
      "cell_type": "code",
      "source": [
        "def Test2(model, test_DL, criterion, BATCH_SIZE):\n",
        "    model.eval()\n",
        "    NoT = len(test_DL)\n",
        "    e_loss = 0\n",
        "    batch_count = 0\n",
        "\n",
        "    with torch.no_grad():\n",
        "        for x_batch, label in test_DL:\n",
        "            x_batch, y_batch = x_batch.to(DEVICE), x_batch.to(DEVICE)\n",
        "            _, y_hat = model(x_batch)\n",
        "            loss = criterion(y_hat, y_batch)\n",
        "            b_loss = loss.item() * x_batch.shape[0]\n",
        "            e_loss += b_loss\n",
        "            batch_count += BATCH_SIZE\n",
        "\n",
        "            if batch_count%(BATCH_SIZE*200)==0:\n",
        "                print(f'loss: {round(b_loss,5)}')\n",
        "\n",
        "    print(f'Test_loss: {round(e_loss/NoT,5)}')\n",
        "    print('-' * 25)"
      ],
      "metadata": {
        "id": "EirexF65F_Oh"
      },
      "execution_count": null,
      "outputs": []
    },
    {
      "cell_type": "code",
      "source": [
        "def im_plot(model, test_DL):\n",
        "    x_batch, label = next(iter(test_DL))\n",
        "    for idx in range(3):\n",
        "        title = test_DL.dataset.classes[label[idx]]\n",
        "        plt.subplot(3,2, 1+(2*idx), xticks=[], yticks=[])\n",
        "        plt.title('original_'+title)\n",
        "        img = x_batch[idx].permute(1,2,0).squeeze()\n",
        "        plt.imshow(img)\n",
        "\n",
        "        plt.subplot(3,2, 2+(2*idx), xticks=[], yticks=[])\n",
        "        plt.title('encoded_'+title)\n",
        "        img = x_batch[idx]\n",
        "        _, out = model(img)\n",
        "        out = out.permute(0,2,3,1).squeeze().detach().numpy()\n",
        "        plt.imshow(out)"
      ],
      "metadata": {
        "id": "sSBZcDc9MbNF"
      },
      "execution_count": null,
      "outputs": []
    },
    {
      "cell_type": "code",
      "source": [
        "exec(f'model = {model_type}().to(DEVICE)')\n",
        "optimizer = torch.optim.Adam(model.parameters(), lr=LR)\n",
        "\n",
        "if is_new_training:\n",
        "    Train2(model, train_DL, optimizer, criterion, BATCH_SIZE, EPOCH)\n",
        "    if wanna_save:\n",
        "        torch.save(model, save_path)\n",
        "else:\n",
        "    model = torch.load(save_path, map_location=DEVICE)\n",
        "\n",
        "Test2(model, test_DL, criterion, BATCH_SIZE)"
      ],
      "metadata": {
        "colab": {
          "base_uri": "https://localhost:8080/"
        },
        "id": "rhRe4IeRWhf-",
        "outputId": "1b11b6ea-53c5-4e53-aba2-65e94cda4dd6"
      },
      "execution_count": null,
      "outputs": [
        {
          "output_type": "stream",
          "name": "stdout",
          "text": [
            "Test_loss: 1.07382\n",
            "-------------------------\n"
          ]
        }
      ]
    },
    {
      "cell_type": "code",
      "source": [
        "im_plot(model, test_DL)"
      ],
      "metadata": {
        "colab": {
          "base_uri": "https://localhost:8080/",
          "height": 428
        },
        "id": "USESSBOaCsqP",
        "outputId": "7a319357-c8fe-472b-c0df-d372763d322b"
      },
      "execution_count": null,
      "outputs": [
        {
          "output_type": "display_data",
          "data": {
            "text/plain": [
              "<Figure size 640x480 with 6 Axes>"
            ],
            "image/png": "[encoded data removed]"
          },
          "metadata": {}
        }
      ]
    },
    {
      "cell_type": "markdown",
      "source": [
        "## <추가학습. 에러>\n",
        "\n",
        "- The size of tensor a (784) must match the size of tensor b (28) at non-singleton dimension 3\n",
        "\n",
        "- dimension 3 : (dim0, dim1, dim2, dim3) 에서 dim3를 의미\n",
        "- loss를 계산할 때 입력과 출력의 크기가 맞지 않아서 생기는 문제로 보임\n",
        "- flatten 후에 다시 28*28 꼴로 만들어주어야함"
      ],
      "metadata": {
        "id": "HX09XjcPEA1b"
      }
    },
    {
      "cell_type": "markdown",
      "source": [
        "# 잠재변수 들여다 보기"
      ],
      "metadata": {
        "id": "2YrS8xrIEBN9"
      }
    },
    {
      "cell_type": "code",
      "source": [
        "view_data = trainset.data[:200].view(-1,28*28)\n",
        "view_data = view_data.type(torch.FloatTensor)/255.\n",
        "test_x = view_data.to(DEVICE)\n",
        "encoded_data, _ = model(test_x) # latent variables\n",
        "encoded_data = encoded_data.to('cpu') # for plot"
      ],
      "metadata": {
        "id": "e2BeR4nWEA49"
      },
      "execution_count": null,
      "outputs": []
    },
    {
      "cell_type": "code",
      "source": [
        "print(encoded_data.shape)"
      ],
      "metadata": {
        "colab": {
          "base_uri": "https://localhost:8080/"
        },
        "id": "KOa504UTFyIE",
        "outputId": "fccbdfb7-b164-44f1-d374-946f0b1df5b5"
      },
      "execution_count": null,
      "outputs": [
        {
          "output_type": "stream",
          "name": "stdout",
          "text": [
            "torch.Size([200, 10])\n"
          ]
        }
      ]
    },
    {
      "cell_type": "code",
      "source": [
        "trainset.class_to_idx"
      ],
      "metadata": {
        "colab": {
          "base_uri": "https://localhost:8080/"
        },
        "id": "tk27xZnsEzD0",
        "outputId": "e6aae54e-0f82-4c27-fa5a-a07d3f140fa4"
      },
      "execution_count": null,
      "outputs": [
        {
          "output_type": "execute_result",
          "data": {
            "text/plain": [
              "{'T-shirt/top': 0,\n",
              " 'Trouser': 1,\n",
              " 'Pullover': 2,\n",
              " 'Dress': 3,\n",
              " 'Coat': 4,\n",
              " 'Sandal': 5,\n",
              " 'Shirt': 6,\n",
              " 'Sneaker': 7,\n",
              " 'Bag': 8,\n",
              " 'Ankle boot': 9}"
            ]
          },
          "metadata": {},
          "execution_count": 16
        }
      ]
    },
    {
      "cell_type": "code",
      "source": [
        "# colab에서 진행하면 3D이미지는 안나옴\n",
        "\n",
        "CLASSES = {\n",
        "    0: 'T-shirt/top',\n",
        "    1: 'Trouser',\n",
        "    2: 'Pullover',\n",
        "    3: 'Dress',\n",
        "    4: 'Coat',\n",
        "    5: 'Sandal',\n",
        "    6: 'Shirt',\n",
        "    7: 'Sneaker',\n",
        "    8: 'Bag',\n",
        "    9: 'Ankle boot'\n",
        "}\n",
        "\n",
        "fig = plt.figure(figsize=(10,8))\n",
        "ax = Axes3D(fig)\n",
        "\n",
        "# 10개 중에 3개만 뽑아서 표현한것뿐(3D한계)\n",
        "X = encoded_data.data[:,0].numpy()\n",
        "Y = encoded_data.data[:,1].numpy()\n",
        "Z = encoded_data.data[:,2].numpy()\n",
        "\n",
        "labels = trainset.targets[:200].numpy()\n",
        "\n",
        "for x, y, z, s in zip(X, Y, Z, labels):\n",
        "    name = CLASSES[s]\n",
        "    color = cm.rainbow(int(255*s/9))\n",
        "    ax.text(x,y,z,name, backgroundcolor=color)\n",
        "    \n",
        "ax.set_xlim(X.min(), X.max())\n",
        "ax.set_ylim(Y.min(), Y.max())\n",
        "ax.set_zlim(Z.min(), Z.max())\n",
        "plt.show()"
      ],
      "metadata": {
        "colab": {
          "base_uri": "https://localhost:8080/",
          "height": 35
        },
        "id": "EeChLWinFAX_",
        "outputId": "0a15f649-d89c-48b8-94f5-2261332ea457"
      },
      "execution_count": null,
      "outputs": [
        {
          "output_type": "display_data",
          "data": {
            "text/plain": [
              "<Figure size 1000x800 with 0 Axes>"
            ]
          },
          "metadata": {}
        }
      ]
    },
    {
      "cell_type": "code",
      "source": [
        "print(type(encoded_data))\n",
        "print(encoded_data.data)\n",
        "print(trainset.targets)"
      ],
      "metadata": {
        "colab": {
          "base_uri": "https://localhost:8080/"
        },
        "id": "ANo013LpI5ua",
        "outputId": "e7fb5432-4155-4801-c32c-7f0973412834"
      },
      "execution_count": null,
      "outputs": [
        {
          "output_type": "stream",
          "name": "stdout",
          "text": [
            "<class 'torch.Tensor'>\n",
            "tensor([[ 2.5619,  0.9644, -1.3432,  ..., -0.8437,  0.3215, -1.5253],\n",
            "        [-0.7913, -3.2666, -3.1065,  ...,  5.2013,  2.3099,  0.7971],\n",
            "        [-0.4534, -0.7622, -0.4335,  ...,  2.4231,  1.6806,  1.0764],\n",
            "        ...,\n",
            "        [ 3.6009, -3.9682, -2.1530,  ...,  3.9132,  0.0694, -1.6144],\n",
            "        [ 0.9787,  0.7055, -0.7647,  ..., -0.7460,  0.1392, -0.9923],\n",
            "        [ 1.7642, -2.5349, -1.2747,  ...,  3.7737,  0.7247, -0.3619]])\n",
            "tensor([9, 0, 0,  ..., 3, 0, 5])\n"
          ]
        }
      ]
    },
    {
      "cell_type": "markdown",
      "source": [
        "# 이미지 복원"
      ],
      "metadata": {
        "id": "xk-WZFH3TAkB"
      }
    },
    {
      "cell_type": "code",
      "source": [
        "BATCH_SIZE = 64\n",
        "LR = 2e-3\n",
        "EPOCH = 10\n",
        "criterion = nn.MSELoss()\n",
        "model_type = 'AutoEncoder'\n",
        "data_type = 'FashionMNIST'\n",
        "is_new_training = False\n",
        "wanna_save = False\n",
        "save_path = f'/content/drive/MyDrive/Colab Notebooks/results/{model_type}_{data_type}_noised.pt'"
      ],
      "metadata": {
        "id": "doBjrs4WXi2T"
      },
      "execution_count": null,
      "outputs": []
    },
    {
      "cell_type": "code",
      "source": [
        "def add_noise(img): # noise 추가\n",
        "    noise = torch.randn(img.shape) * 0.2\n",
        "    img = img + noise\n",
        "    return img"
      ],
      "metadata": {
        "id": "m4_2A8bZS9_J"
      },
      "execution_count": null,
      "outputs": []
    },
    {
      "cell_type": "code",
      "source": [
        "def Train_noise(model, train_DL, optimizer, criterion, BATCH_SIZE, EPOCH):\n",
        "    model.train()\n",
        "    NoT = len(train_DL)\n",
        "    for epoch in range(1, EPOCH+1):\n",
        "        e_loss = 0\n",
        "        batch_count = 0\n",
        "\n",
        "        for x_batch, label in train_DL:\n",
        "            x_batch = x_batch.to(DEVICE)\n",
        "            x_batch = add_noise(x_batch)\n",
        "            y_batch = x_batch.to(DEVICE)\n",
        "            label = label.to(DEVICE)\n",
        "            _, y_hat = model(x_batch)\n",
        "            loss = criterion(y_hat, y_batch)\n",
        "            optimizer.zero_grad()\n",
        "            loss.backward()\n",
        "            optimizer.step()\n",
        "            b_loss = loss.item() * x_batch.shape[0]\n",
        "            e_loss += b_loss\n",
        "            batch_count += BATCH_SIZE\n",
        "\n",
        "            if batch_count% (BATCH_SIZE*200) ==0:\n",
        "                print(f'Train Epoch: {epoch} loss: {round(b_loss,5)}')\n",
        "\n",
        "        print(f'epoch: {epoch}  Train_loss: {round(e_loss/NoT,5)}')\n",
        "        print('-' * 25)"
      ],
      "metadata": {
        "id": "7S5X3IeWURkw"
      },
      "execution_count": null,
      "outputs": []
    },
    {
      "cell_type": "code",
      "source": [
        "def Test_noise(model, test_DL, criterion, BATCH_SIZE):\n",
        "    model.eval()\n",
        "    NoT = len(test_DL)\n",
        "    e_loss = 0\n",
        "    batch_count = 0\n",
        "\n",
        "    with torch.no_grad():\n",
        "        for x_batch, label in test_DL:\n",
        "            x_batch, y_batch = x_batch.to(DEVICE), x_batch.to(DEVICE)\n",
        "            x_batch = add_noise(x_batch)\n",
        "            _, y_hat = model(x_batch)\n",
        "            loss = criterion(y_hat, y_batch)\n",
        "            b_loss = loss.item() * x_batch.shape[0]\n",
        "            e_loss += b_loss\n",
        "            batch_count += BATCH_SIZE\n",
        "\n",
        "            if batch_count%(BATCH_SIZE*200)==0:\n",
        "                print(f'loss: {round(b_loss,5)}')\n",
        "\n",
        "    print(f'Test_loss: {round(e_loss/NoT,5)}')\n",
        "    print('-' * 25)"
      ],
      "metadata": {
        "id": "rO9UyRIWWBHt"
      },
      "execution_count": null,
      "outputs": []
    },
    {
      "cell_type": "code",
      "source": [
        "def noised_im_plot(model, test_DL):\n",
        "    x_batch, label = next(iter(test_DL))\n",
        "    for idx in range(3):\n",
        "        title = test_DL.dataset.classes[label[idx]]\n",
        "        plt.subplot(3,2, 1+(2*idx), xticks=[], yticks=[])\n",
        "        plt.title('noised_'+title)\n",
        "        img = add_noise(x_batch[idx]) \n",
        "        img_whc = img.permute(1,2,0).squeeze() # noise_img\n",
        "        plt.imshow(img_whc)\n",
        "        \n",
        "\n",
        "        plt.subplot(3,2, 2+(2*idx), xticks=[], yticks=[])\n",
        "        plt.title('recoverd_'+title)\n",
        "        _, out = model(img) # recovered_img\n",
        "        out = out.permute(0,2,3,1).squeeze().detach().numpy()\n",
        "        plt.imshow(out)\n",
        "        "
      ],
      "metadata": {
        "id": "3e2VhxeXWVtj"
      },
      "execution_count": null,
      "outputs": []
    },
    {
      "cell_type": "code",
      "source": [
        "# x_batch, label = next(iter(test_DL))\n",
        "# img = add_noise(x_batch[idx]).permute(1,2,0).squeeze()\n",
        "# plt.imshow(img)"
      ],
      "metadata": {
        "id": "k-437SWBzGVm"
      },
      "execution_count": null,
      "outputs": []
    },
    {
      "cell_type": "code",
      "source": [
        "exec(f'model = {model_type}().to(DEVICE)')\n",
        "optimizer = torch.optim.Adam(model.parameters(), lr=LR)\n",
        "\n",
        "\n",
        "\n",
        "if is_new_training:\n",
        "    Train_noise(model, train_DL, optimizer, criterion, BATCH_SIZE, EPOCH)\n",
        "    if wanna_save:\n",
        "        torch.save(model, save_path)\n",
        "else:\n",
        "    model = torch.load(save_path, map_location=DEVICE)\n",
        "Test_noise(model, test_DL, criterion, BATCH_SIZE)\n",
        "noised_im_plot(model, test_DL)"
      ],
      "metadata": {
        "colab": {
          "base_uri": "https://localhost:8080/",
          "height": 465
        },
        "id": "KNEiiz3hVwem",
        "outputId": "bf85a874-92f7-4b00-bbf5-a739f3182150"
      },
      "execution_count": null,
      "outputs": [
        {
          "output_type": "stream",
          "name": "stdout",
          "text": [
            "Test_loss: 1.18822\n",
            "-------------------------\n"
          ]
        },
        {
          "output_type": "display_data",
          "data": {
            "text/plain": [
              "<Figure size 640x480 with 6 Axes>"
            ],
            "image/png": "[encoded data removed]"
          },
          "metadata": {}
        }
      ]
    }
  ]
}