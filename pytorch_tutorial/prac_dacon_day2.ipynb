{
  "nbformat": 4,
  "nbformat_minor": 0,
  "metadata": {
    "colab": {
      "provenance": [],
      "authorship_tag": "ABX9TyNBBak8MaaGkNCauLQyjKWc",
      "include_colab_link": true
    },
    "kernelspec": {
      "name": "python3",
      "display_name": "Python 3"
    },
    "language_info": {
      "name": "python"
    }
  },
  "cells": [
    {
      "cell_type": "markdown",
      "metadata": {
        "id": "view-in-github",
        "colab_type": "text"
      },
      "source": [
        "<a href=\"https://colab.research.google.com/github/hwarang97/hukppenhiem/blob/main/prac_dacon_day2.ipynb\" target=\"_parent\"><img src=\"https://colab.research.google.com/assets/colab-badge.svg\" alt=\"Open In Colab\"/></a>"
      ]
    },
    {
      "cell_type": "code",
      "execution_count": 93,
      "metadata": {
        "id": "jA21Nq1ls3OV"
      },
      "outputs": [],
      "source": [
        "import torch\n",
        "from torch import nn\n",
        "import torch.nn.functional as F\n",
        "import matplotlib.pyplot as plt\n",
        "from sklearn.datasets import make_blobs\n",
        "import pandas as pd"
      ]
    },
    {
      "cell_type": "code",
      "source": [
        "n_dim = 2 # 특성 갯수 지정\n",
        "x_train, y_train = make_blobs(n_samples=80, n_features=n_dim, centers=[[1,1],[-1,-1],[1,-1],[-1,1]], shuffle=True, cluster_std=0.3)\n",
        "x_test, y_test = make_blobs(n_samples=20, n_features=n_dim, centers=[[1,1],[-1,-1],[1,-1],[-1,1]], shuffle=True, cluster_std=0.3)"
      ],
      "metadata": {
        "id": "X9k6K-zet_8M"
      },
      "execution_count": 94,
      "outputs": []
    },
    {
      "cell_type": "code",
      "source": [
        "# 데이터 확인\n",
        "\n",
        "x = pd.DataFrame(x_train)\n",
        "y = pd.DataFrame(y_train)\n",
        "\n",
        "print('======= x =========')\n",
        "print(x.head(5))\n",
        "print(x.tail(5))\n",
        "print(x.describe())\n",
        "print(x.info())\n",
        "print(x.count())\n",
        "print()\n",
        "\n",
        "print('======= y =========')\n",
        "print(y.head(5))\n",
        "print(y.tail(5))\n",
        "print(y.describe())\n",
        "print(y.info())\n",
        "print(y.value_counts())"
      ],
      "metadata": {
        "colab": {
          "base_uri": "https://localhost:8080/"
        },
        "id": "E4S8hkipuS2n",
        "outputId": "cb7dce61-4ac1-4b45-d01b-ca833ae9f7b8"
      },
      "execution_count": 95,
      "outputs": [
        {
          "output_type": "stream",
          "name": "stdout",
          "text": [
            "======= x =========\n",
            "          0         1\n",
            "0 -0.922628 -0.866495\n",
            "1 -1.581195  0.852416\n",
            "2  1.161590  0.875887\n",
            "3 -1.708374  1.395599\n",
            "4  1.464639 -1.108627\n",
            "           0         1\n",
            "75  0.747283 -0.892695\n",
            "76 -0.871835  1.032793\n",
            "77  0.907134  1.208328\n",
            "78  1.059132 -0.548657\n",
            "79 -1.290797 -0.994847\n",
            "               0          1\n",
            "count  80.000000  80.000000\n",
            "mean    0.030148   0.036722\n",
            "std     1.065296   1.050308\n",
            "min    -1.708374  -1.794379\n",
            "25%    -0.945664  -0.960832\n",
            "50%    -0.032700  -0.141819\n",
            "75%     1.052164   1.019670\n",
            "max     1.585465   1.883704\n",
            "<class 'pandas.core.frame.DataFrame'>\n",
            "RangeIndex: 80 entries, 0 to 79\n",
            "Data columns (total 2 columns):\n",
            " #   Column  Non-Null Count  Dtype  \n",
            "---  ------  --------------  -----  \n",
            " 0   0       80 non-null     float64\n",
            " 1   1       80 non-null     float64\n",
            "dtypes: float64(2)\n",
            "memory usage: 1.4 KB\n",
            "None\n",
            "0    80\n",
            "1    80\n",
            "dtype: int64\n",
            "\n",
            "======= y =========\n",
            "   0\n",
            "0  1\n",
            "1  3\n",
            "2  0\n",
            "3  3\n",
            "4  2\n",
            "    0\n",
            "75  2\n",
            "76  3\n",
            "77  0\n",
            "78  2\n",
            "79  1\n",
            "               0\n",
            "count  80.000000\n",
            "mean    1.500000\n",
            "std     1.125088\n",
            "min     0.000000\n",
            "25%     0.750000\n",
            "50%     1.500000\n",
            "75%     2.250000\n",
            "max     3.000000\n",
            "<class 'pandas.core.frame.DataFrame'>\n",
            "RangeIndex: 80 entries, 0 to 79\n",
            "Data columns (total 1 columns):\n",
            " #   Column  Non-Null Count  Dtype\n",
            "---  ------  --------------  -----\n",
            " 0   0       80 non-null     int64\n",
            "dtypes: int64(1)\n",
            "memory usage: 768.0 bytes\n",
            "None\n",
            "0    20\n",
            "1    20\n",
            "2    20\n",
            "3    20\n",
            "dtype: int64\n"
          ]
        }
      ]
    },
    {
      "cell_type": "code",
      "source": [
        "# type transfer\n",
        "x_train = torch.tensor(x_train, dtype=torch.float)\n",
        "x_test = torch.tensor(x_test, dtype=torch.float)\n",
        "y_train = torch.tensor(y_train, dtype=torch.float)\n",
        "y_test = torch.tensor(y_test, dtype=torch.float)"
      ],
      "metadata": {
        "id": "uLNWvNm_xbAE"
      },
      "execution_count": 96,
      "outputs": []
    },
    {
      "cell_type": "code",
      "source": [
        "# 데이터 라벨링 \n",
        "\n",
        "# for i in [0,1]:\n",
        "#     y_train[y_train==i] = 0\n",
        "\n",
        "# for i in [1,2]:\n",
        "#     y_train[y_train==i] = 1\n",
        "\n",
        "def labeling(y_: torch.tensor, from_:list, to_: int) -> None:\n",
        "    for i in from_:\n",
        "        y_[y_==i] = to_\n",
        "\n",
        "labeling(y_train, [0,1], 0)\n",
        "labeling(y_train, [2,3], 1)\n",
        "labeling(y_test, [0,1], 0)\n",
        "labeling(y_test, [2,3], 1)\n",
        "\n",
        "\n",
        "def show(title_:str, x_:torch.tensor, y_:torch.tensor):\n",
        "\n",
        "    '''\n",
        "    need matplotlib.pyplot as plt\n",
        "    '''\n",
        "\n",
        "    plt.figure()\n",
        "    plt.title(title_)\n",
        "    for i in range(len(y_)):\n",
        "        plt.plot(x_[i,0], x_[i,1], 'ro' if y_[i] == 0 else 'b*')\n",
        "    plt.show()\n",
        "\n",
        "# plt.figure()\n",
        "# plt.title('y_train')\n",
        "# for i in range(len(y_train)):\n",
        "#     plt.plot(x_train[i,0], x_train[i,1], 'ro' if y_train[i] == 0 else 'b*')\n",
        "# plt.show()\n",
        "show('y_train', x_train, y_train)\n",
        "\n",
        "# plt.figure()\n",
        "# plt.title('y_test')\n",
        "# for i in range(len(y_train)):\n",
        "#     plt.plot(x_train[i,0], x_train[i,1], 'ro' if y_train[i] == 0 else 'b*')\n",
        "# plt.show()\n",
        "show('y_train', x_test, y_test)"
      ],
      "metadata": {
        "colab": {
          "base_uri": "https://localhost:8080/",
          "height": 887
        },
        "id": "fLutwEFqw0Q_",
        "outputId": "cbbdb626-6c19-4e3c-aa8f-cb355a3ce0fb"
      },
      "execution_count": 97,
      "outputs": [
        {
          "output_type": "display_data",
          "data": {
            "text/plain": [
              "<Figure size 640x480 with 1 Axes>"
            ],
            "image/png": "[encoded data removed]"
          },
          "metadata": {}
        },
        {
          "output_type": "display_data",
          "data": {
            "text/plain": [
              "<Figure size 640x480 with 1 Axes>"
            ],
            "image/png": "[encoded data removed]"
          },
          "metadata": {}
        }
      ]
    },
    {
      "cell_type": "code",
      "source": [
        "# hyper parameters\n",
        "input_size = 2\n",
        "hidden_size = 10\n",
        "lr = 0.03\n",
        "epochs = 2000"
      ],
      "metadata": {
        "id": "waaTvRRx1Vmz"
      },
      "execution_count": 98,
      "outputs": []
    },
    {
      "cell_type": "code",
      "source": [
        "# 모델 만들기\n",
        "\n",
        "class mynn(nn.Module):\n",
        "    def __init__(self, input_size_, hidden_size_):\n",
        "        super().__init__()\n",
        "\n",
        "        self.linear = nn.Sequential(\n",
        "            nn.Linear(input_size_, hidden_size_),\n",
        "            nn.ReLU(),\n",
        "            nn.Linear(hidden_size_, 1),\n",
        "            nn.Sigmoid()\n",
        "        )\n",
        "\n",
        "    def forward(self, x):\n",
        "        x = self.linear(x)\n",
        "        return x"
      ],
      "metadata": {
        "id": "k2V2WiYh1JSi"
      },
      "execution_count": 99,
      "outputs": []
    },
    {
      "cell_type": "code",
      "source": [
        "model = mynn(input_size, hidden_size)\n",
        "print(model.parameters) # parameters 는 속성이고 parameters()는 iterator를 반환함\n",
        "print(model)"
      ],
      "metadata": {
        "colab": {
          "base_uri": "https://localhost:8080/"
        },
        "id": "MTzn7yrV2wbF",
        "outputId": "369faee4-f53e-41b9-f47e-3db16f27d7fb"
      },
      "execution_count": 100,
      "outputs": [
        {
          "output_type": "stream",
          "name": "stdout",
          "text": [
            "<bound method Module.parameters of mynn(\n",
            "  (linear): Sequential(\n",
            "    (0): Linear(in_features=2, out_features=10, bias=True)\n",
            "    (1): ReLU()\n",
            "    (2): Linear(in_features=10, out_features=1, bias=True)\n",
            "    (3): Sigmoid()\n",
            "  )\n",
            ")>\n",
            "mynn(\n",
            "  (linear): Sequential(\n",
            "    (0): Linear(in_features=2, out_features=10, bias=True)\n",
            "    (1): ReLU()\n",
            "    (2): Linear(in_features=10, out_features=1, bias=True)\n",
            "    (3): Sigmoid()\n",
            "  )\n",
            ")\n"
          ]
        }
      ]
    },
    {
      "cell_type": "code",
      "source": [
        "print(x_test.shape)\n",
        "print(y_test.shape)\n",
        "print(x_test.dtype)"
      ],
      "metadata": {
        "colab": {
          "base_uri": "https://localhost:8080/"
        },
        "id": "Me3opKDq4Xve",
        "outputId": "48f36382-083f-487b-968e-38584efa8f8e"
      },
      "execution_count": 101,
      "outputs": [
        {
          "output_type": "stream",
          "name": "stdout",
          "text": [
            "torch.Size([20, 2])\n",
            "torch.Size([20])\n",
            "torch.float32\n"
          ]
        }
      ]
    },
    {
      "cell_type": "code",
      "source": [
        "for x_ in torch.tensor([[-1.,1.], [1.,0.], [2.,-1.]], requires_grad=False):\n",
        "    y_hat = model(x_)\n",
        "    print(y_hat)"
      ],
      "metadata": {
        "colab": {
          "base_uri": "https://localhost:8080/"
        },
        "id": "hkZdjQWg4-hg",
        "outputId": "0653e620-36bc-4cb0-fb42-d160bbbd8153"
      },
      "execution_count": 102,
      "outputs": [
        {
          "output_type": "stream",
          "name": "stdout",
          "text": [
            "tensor([0.5372], grad_fn=<SigmoidBackward0>)\n",
            "tensor([0.5074], grad_fn=<SigmoidBackward0>)\n",
            "tensor([0.5588], grad_fn=<SigmoidBackward0>)\n"
          ]
        }
      ]
    },
    {
      "cell_type": "code",
      "source": [
        "# 학습 전 성능 확인\n",
        "model.eval()\n",
        "y_hat = model(x_test) # mat1, mat2 type has different type -> tensor dtype을 동일하게 만들어주면 됨\n",
        "loss = F.binary_cross_entropy(y_hat.squeeze(), y_test)\n",
        "print(f'loss before training: {loss}')"
      ],
      "metadata": {
        "colab": {
          "base_uri": "https://localhost:8080/"
        },
        "id": "Cx6VucwH3lD7",
        "outputId": "5165c4d1-abfc-4a5a-c883-6575bc5b3eeb"
      },
      "execution_count": 103,
      "outputs": [
        {
          "output_type": "stream",
          "name": "stdout",
          "text": [
            "loss before training: 0.6937087774276733\n"
          ]
        }
      ]
    },
    {
      "cell_type": "code",
      "source": [
        "# 학습시키기\n",
        "model.train()\n",
        "for epoch in range(1,epochs+1):\n",
        "    x_train.requires_grad_(True)\n",
        "    y_hat = model(x_train)\n",
        "    loss = F.binary_cross_entropy(y_hat.squeeze(), y_train)\n",
        "\n",
        "    if epoch%100==0:\n",
        "        print(f'epoch at : {epoch}, loss : {loss}')\n",
        "\n",
        "    optimizer = torch.optim.Adam(model.parameters(), lr = lr)\n",
        "    optimizer.zero_grad()\n",
        "    loss.backward()\n",
        "    optimizer.step()"
      ],
      "metadata": {
        "colab": {
          "base_uri": "https://localhost:8080/"
        },
        "id": "usmyp5-T3awX",
        "outputId": "044f050a-33a6-4da8-ef56-833633529845"
      },
      "execution_count": 104,
      "outputs": [
        {
          "output_type": "stream",
          "name": "stdout",
          "text": [
            "epoch at : 100, loss : 0.012689581140875816\n",
            "epoch at : 200, loss : 0.0006472520180977881\n",
            "epoch at : 300, loss : 3.227276829420589e-05\n",
            "epoch at : 400, loss : 1.6098241530926316e-06\n",
            "epoch at : 500, loss : 8.985313826315178e-08\n",
            "epoch at : 600, loss : 2.63433441727301e-10\n",
            "epoch at : 700, loss : 1.161263515903066e-10\n",
            "epoch at : 800, loss : 6.245855915798515e-11\n",
            "epoch at : 900, loss : 4.0929735295458514e-11\n",
            "epoch at : 1000, loss : 3.7736064273374836e-11\n",
            "epoch at : 1100, loss : 2.9501172338353143e-11\n",
            "epoch at : 1200, loss : 3.119339508916852e-11\n",
            "epoch at : 1300, loss : 2.3364038134743303e-11\n",
            "epoch at : 1400, loss : 1.841198374319397e-11\n",
            "epoch at : 1500, loss : 1.93130442194267e-11\n",
            "epoch at : 1600, loss : 1.5772733813479434e-11\n",
            "epoch at : 1700, loss : 1.7542391150815462e-11\n",
            "epoch at : 1800, loss : 1.4676787563061566e-11\n",
            "epoch at : 1900, loss : 1.2229749331293949e-11\n",
            "epoch at : 2000, loss : 1.1074534518595858e-11\n"
          ]
        }
      ]
    },
    {
      "cell_type": "code",
      "source": [
        "# 학습 후 성능 확인\n",
        "model.eval()\n",
        "y_hat = model(x_test) # mat1, mat2 type has different type -> tensor dtype을 동일하게 만들어주면 됨\n",
        "loss = F.binary_cross_entropy(y_hat.squeeze(), y_test)\n",
        "print(f'loss before training: {loss}')"
      ],
      "metadata": {
        "colab": {
          "base_uri": "https://localhost:8080/"
        },
        "id": "7CbXxfDW8Fqf",
        "outputId": "c9f69385-b8d4-4c83-ab6a-34c8aa80b835"
      },
      "execution_count": 105,
      "outputs": [
        {
          "output_type": "stream",
          "name": "stdout",
          "text": [
            "loss before training: 1.3453542351271608e-06\n"
          ]
        }
      ]
    },
    {
      "cell_type": "code",
      "source": [
        "d = torch.save(model.state_dict(), './model.pt')\n",
        "print(model.state_dict())"
      ],
      "metadata": {
        "colab": {
          "base_uri": "https://localhost:8080/"
        },
        "id": "sHyJHpRJ_8u8",
        "outputId": "7ac1619b-5c1c-4be2-f68c-212bc9e70f55"
      },
      "execution_count": 111,
      "outputs": [
        {
          "output_type": "stream",
          "name": "stdout",
          "text": [
            "OrderedDict([('linear.0.weight', tensor([[ 4.3994, -3.9010],\n",
            "        [ 4.3134, -3.3606],\n",
            "        [ 0.0434, -0.1332],\n",
            "        [ 6.3787,  1.9451],\n",
            "        [ 1.3023, -0.9021],\n",
            "        [ 1.3800, -0.9469],\n",
            "        [ 4.0652, -3.5668],\n",
            "        [ 6.0663,  1.8915],\n",
            "        [-1.4120, -6.6100],\n",
            "        [-1.0053, -5.4624]])), ('linear.0.bias', tensor([-0.7140, -0.3624, -0.5873,  0.3051,  1.8968,  2.0164, -0.6050,  0.2286,\n",
            "        -0.0685,  0.1451])), ('linear.2.weight', tensor([[ 4.5124,  4.5299,  0.2884, -4.0211, -2.6922, -2.8698,  4.6612, -3.6634,\n",
            "         -3.9485, -3.0581]])), ('linear.2.bias', tensor([16.7445]))])\n"
          ]
        }
      ]
    },
    {
      "cell_type": "code",
      "source": [
        "new_model = mynn(2,10)\n",
        "new_model.load_state_dict(torch.load('./model.pt'))\n",
        "print(new_model(torch.tensor([-1., 1.])))"
      ],
      "metadata": {
        "colab": {
          "base_uri": "https://localhost:8080/"
        },
        "id": "zFw7sd0IAHr-",
        "outputId": "d45ccccd-ef8e-4096-e3ed-c2ec48894204"
      },
      "execution_count": 113,
      "outputs": [
        {
          "output_type": "stream",
          "name": "stdout",
          "text": [
            "tensor([1.], grad_fn=<SigmoidBackward0>)\n"
          ]
        }
      ]
    }
  ]
}