{
  "nbformat": 4,
  "nbformat_minor": 0,
  "metadata": {
    "colab": {
      "provenance": [],
      "authorship_tag": "ABX9TyOEMh+7YyQsLEFaV5GSYjVt",
      "include_colab_link": true
    },
    "kernelspec": {
      "name": "python3",
      "display_name": "Python 3"
    },
    "language_info": {
      "name": "python"
    },
    "accelerator": "GPU",
    "gpuClass": "standard"
  },
  "cells": [
    {
      "cell_type": "markdown",
      "metadata": {
        "id": "view-in-github",
        "colab_type": "text"
      },
      "source": [
        "<a href=\"https://colab.research.google.com/github/hwarang97/hukppenhiem/blob/main/%5Bprac%5DDacon_pytorch_day3.ipynb\" target=\"_parent\"><img src=\"https://colab.research.google.com/assets/colab-badge.svg\" alt=\"Open In Colab\"/></a>"
      ]
    },
    {
      "cell_type": "code",
      "execution_count": 38,
      "metadata": {
        "colab": {
          "base_uri": "https://localhost:8080/"
        },
        "id": "NMcvJ9tGBVxm",
        "outputId": "a3239af5-522a-4381-c7d5-03bb22399306"
      },
      "outputs": [
        {
          "output_type": "stream",
          "name": "stdout",
          "text": [
            "cuda\n"
          ]
        }
      ],
      "source": [
        "import torch\n",
        "import matplotlib.pyplot as plt\n",
        "from torch import nn\n",
        "from torchvision import datasets, transforms\n",
        "from torch.utils.data import DataLoader\n",
        "from google.colab import drive\n",
        "DEVICE = 'cuda' if torch.cuda.is_available() else 'cpu'\n",
        "print(DEVICE)"
      ]
    },
    {
      "cell_type": "code",
      "source": [
        "drive.mount('/content/drive')"
      ],
      "metadata": {
        "colab": {
          "base_uri": "https://localhost:8080/"
        },
        "id": "PCJapYORDSWl",
        "outputId": "e5656101-caae-4393-e901-4a9978daa63e"
      },
      "execution_count": 39,
      "outputs": [
        {
          "output_type": "stream",
          "name": "stdout",
          "text": [
            "Drive already mounted at /content/drive; to attempt to forcibly remount, call drive.mount(\"/content/drive\", force_remount=True).\n"
          ]
        }
      ]
    },
    {
      "cell_type": "code",
      "source": [
        "data_path = '/content/drive/MyDrive/Colab Notebooks/data'\n",
        "LR = 1e-3 # 잘못 설정하면 loss값이 이상하게 나타남\n",
        "BATCH_SIZE = 32\n",
        "EPOCH = 5\n",
        "criterion = nn.CrossEntropyLoss()\n",
        "dataset = 'MNIST'\n",
        "model_type = 'MLP'\n",
        "is_new_model = False\n",
        "save_path = f'/content/drive/MyDrive/Colab Notebooks/results/{model_type}_{dataset}.pt'"
      ],
      "metadata": {
        "id": "Pp8-Lgx5DPEd"
      },
      "execution_count": 40,
      "outputs": []
    },
    {
      "cell_type": "code",
      "source": [
        "trainset = datasets.MNIST(data_path, train=True, transform=transforms.ToTensor(), download=True)\n",
        "testset = datasets.MNIST(data_path, train=False, transform=transforms.ToTensor(), download=True)\n",
        "train_DL = DataLoader(trainset, batch_size=BATCH_SIZE, shuffle=True)\n",
        "test_DL = DataLoader(testset, batch_size=BATCH_SIZE, shuffle=True)"
      ],
      "metadata": {
        "id": "q5aN3jZ6D3YO"
      },
      "execution_count": 41,
      "outputs": []
    },
    {
      "cell_type": "code",
      "source": [
        "class MLP(nn.Module):\n",
        "    def __init__(self, drop_p):\n",
        "        super().__init__()\n",
        "        self.linear = nn.Sequential(\n",
        "            nn.Linear(28*28, 256),\n",
        "            nn.ReLU(),\n",
        "            nn.Dropout(drop_p),\n",
        "            nn.Linear(256, 128),\n",
        "            nn.ReLU(),\n",
        "            nn.Dropout(drop_p),\n",
        "            nn.Linear(128,10)\n",
        "        )\n",
        "\n",
        "    def forward(self, x):\n",
        "        x = torch.flatten(x, start_dim=1)\n",
        "        x = self.linear(x)\n",
        "        return x"
      ],
      "metadata": {
        "id": "uZcez9sNCec2"
      },
      "execution_count": 42,
      "outputs": []
    },
    {
      "cell_type": "code",
      "source": [
        "def Train(model, train_DL, optimizer):\n",
        "    model.train()\n",
        "    NoT = len(train_DL.dataset)\n",
        "    loss_history = []\n",
        "    for epoch in range(1, 1+EPOCH):\n",
        "        e_loss = 0\n",
        "        for x_batch, y_batch in train_DL: # x_batch로 바꾸는게 더 좋겠다\n",
        "            x_batch = x_batch.to(DEVICE)\n",
        "            y_batch = y_batch.to(DEVICE)\n",
        "            y_hat = model(x_batch)\n",
        "            loss = criterion(y_hat, y_batch)\n",
        "            optimizer.zero_grad()\n",
        "            loss.backward()\n",
        "            optimizer.step()\n",
        "            \n",
        "            e_loss += loss.item() * x_batch.shape[0] # 32\n",
        "        e_loss /= NoT\n",
        "        loss_history += [e_loss]\n",
        "\n",
        "        print(f'epoch at {epoch}   loss : {e_loss}')\n",
        "        print('-'*25)\n",
        "\n",
        "\n",
        "\n",
        "    plt.plot(loss_history)"
      ],
      "metadata": {
        "id": "EFzuox__JtsA"
      },
      "execution_count": 43,
      "outputs": []
    },
    {
      "cell_type": "code",
      "source": [
        "def Test(model, test_DL, optimizer):\n",
        "    model.eval()\n",
        "    NoT = len(test_DL.dataset)\n",
        "\n",
        "    with torch.no_grad():\n",
        "        b_correct = 0\n",
        "        for x_batch, y_batch in test_DL:\n",
        "            x_batch = x_batch.to(DEVICE)\n",
        "            y_batch = y_batch.to(DEVICE)\n",
        "            y_hat = model(x_batch)\n",
        "            pred = y_hat.argmax(dim=1)\n",
        "\n",
        "            # 몇개 맞추었는지 확인\n",
        "            correct = torch.sum(pred == y_batch).item() # item 안빼먹도록 조심\n",
        "            b_correct += correct\n",
        "\n",
        "        accuracy = b_correct / NoT * 100\n",
        "    print(f'accuracy : {accuracy} ({round(accuracy,3)}%)')"
      ],
      "metadata": {
        "id": "JRaXJ03Rwso1"
      },
      "execution_count": 44,
      "outputs": []
    },
    {
      "cell_type": "code",
      "source": [
        "exec(f'model = {model_type}(0.2)')\n",
        "optimizer = torch.optim.Adam(model.parameters(), lr=LR)\n",
        "\n",
        "if is_new_model :\n",
        "    model = model.to(DEVICE)\n",
        "    Train(model, train_DL, optimizer)"
      ],
      "metadata": {
        "id": "iSG8aOkMNWuq"
      },
      "execution_count": 45,
      "outputs": []
    },
    {
      "cell_type": "code",
      "source": [
        "if is_new_model:\n",
        "    torch.save(model, '/content/drive/MyDrive/Colab Notebooks/results/MLP_MNIST.pt')"
      ],
      "metadata": {
        "id": "EYT-UEEH5mcK"
      },
      "execution_count": 46,
      "outputs": []
    },
    {
      "cell_type": "code",
      "source": [
        "model = torch.load('/content/drive/MyDrive/Colab Notebooks/results/MLP_MNIST.pt', map_location=DEVICE)"
      ],
      "metadata": {
        "id": "toE3biqC50m9"
      },
      "execution_count": 47,
      "outputs": []
    },
    {
      "cell_type": "code",
      "source": [
        "Test(model, test_DL, optimizer)"
      ],
      "metadata": {
        "colab": {
          "base_uri": "https://localhost:8080/"
        },
        "id": "C21yarykx7XK",
        "outputId": "8a866a17-c3f6-4e90-8e9b-2081d8e1c6cf"
      },
      "execution_count": 48,
      "outputs": [
        {
          "output_type": "stream",
          "name": "stdout",
          "text": [
            "accuracy : 98.09 (98.09%)\n"
          ]
        }
      ]
    },
    {
      "cell_type": "code",
      "source": [
        "def test_plot(model, test_DL):\n",
        "    model.train()\n",
        "    with torch.no_grad():\n",
        "        x_batch, y_batch = next(iter(test_DL))\n",
        "        x_batch = x_batch.to(DEVICE)\n",
        "        y_batch = y_batch.to(DEVICE)\n",
        "        y_hat = model(x_batch)\n",
        "        pred = y_hat.argmax(dim=1)\n",
        "\n",
        "    x_batch = x_batch.to('cpu')\n",
        "\n",
        "    plt.figure(figsize=(8,4))\n",
        "    for idx in range(6):\n",
        "        plt.subplot(2,3,idx+1, xticks=[], yticks=[])\n",
        "        plt.imshow(x_batch[idx].permute(1,2,0).squeeze(), cmap='gray')\n",
        "        pred_class = test_DL.dataset.classes[pred[idx]]\n",
        "        true_class = test_DL.dataset.classes[y_batch[idx]]\n",
        "        plt.title(f'{pred[idx]} = ({y_batch[idx]})', color='g' if pred[idx] == y_batch[idx] else 'r')"
      ],
      "metadata": {
        "id": "B5l8z7Cb0tmu"
      },
      "execution_count": 49,
      "outputs": []
    },
    {
      "cell_type": "code",
      "source": [
        "test_plot(model, test_DL)"
      ],
      "metadata": {
        "colab": {
          "base_uri": "https://localhost:8080/",
          "height": 367
        },
        "id": "V7hUGzG33tHU",
        "outputId": "64dedc03-efd0-4a81-93f4-aed178bcf744"
      },
      "execution_count": 50,
      "outputs": [
        {
          "output_type": "display_data",
          "data": {
            "text/plain": [
              "<Figure size 800x400 with 6 Axes>"
            ],
            "image/png": "[encoded data removed]"
          },
          "metadata": {}
        }
      ]
    }
  ]
}