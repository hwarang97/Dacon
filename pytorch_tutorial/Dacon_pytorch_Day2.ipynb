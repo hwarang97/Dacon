{
  "nbformat": 4,
  "nbformat_minor": 0,
  "metadata": {
    "colab": {
      "provenance": [],
      "authorship_tag": "ABX9TyNXXf+Y6d0Cnoe/re+9g7Kz",
      "include_colab_link": true
    },
    "kernelspec": {
      "name": "python3",
      "display_name": "Python 3"
    },
    "language_info": {
      "name": "python"
    }
  },
  "cells": [
    {
      "cell_type": "markdown",
      "metadata": {
        "id": "view-in-github",
        "colab_type": "text"
      },
      "source": [
        "<a href=\"https://colab.research.google.com/github/hwarang97/hukppenhiem/blob/main/Dacon_pytorch_Day2.ipynb\" target=\"_parent\"><img src=\"https://colab.research.google.com/assets/colab-badge.svg\" alt=\"Open In Colab\"/></a>"
      ]
    },
    {
      "cell_type": "markdown",
      "source": [
        "# 참조 사이트 : DACON pytorch day2 by yun99\n",
        "link : https://dacon.io/en/codeshare/4495"
      ],
      "metadata": {
        "id": "PaAbRKJYjhmf"
      }
    },
    {
      "cell_type": "markdown",
      "source": [
        "# 라이브러리"
      ],
      "metadata": {
        "id": "kyVlTtRb0ZQU"
      }
    },
    {
      "cell_type": "code",
      "source": [
        "import torch \n",
        "import numpy as np # 데이터를 불러오기 위해서 필요\n",
        "import pandas as pd # 데이터 속성 알아보기 위해서 추가\n",
        "from sklearn.datasets import make_blobs # 데이터셋\n",
        "import matplotlib.pyplot as plt # 테이터가 잘 라벨링 되었는지 확인하기용"
      ],
      "metadata": {
        "id": "dCYZQSYEjkR4"
      },
      "execution_count": 1,
      "outputs": []
    },
    {
      "cell_type": "markdown",
      "source": [
        "# 데이터 준비"
      ],
      "metadata": {
        "id": "w7wN1stq0aoj"
      }
    },
    {
      "cell_type": "markdown",
      "source": [
        "## <추가학습>\n",
        "\n",
        "- centers : clust를 만들건데 중심점을 잡아줌\n",
        "- cluster_std : center로부터 얼마만큼씩 떨어져있을 것인지 결정"
      ],
      "metadata": {
        "id": "DWmbRfYnIevc"
      }
    },
    {
      "cell_type": "code",
      "source": [
        "# # make_blobs 매개변수 실험\n",
        "\n",
        "# n_dim = 2\n",
        "# x_train, y_train = make_blobs(n_samples=80, n_features=n_dim, centers=[[1,1],[-1,-1],[1,-1],[-1,1]], shuffle=True, cluster_std=0.3)\n",
        "\n",
        "# x_ = torch.tensor(x_train, dtype=torch.float)\n",
        "# y_ = torch.tensor(y_train, dtype=torch.float)\n",
        "\n",
        "# for i in [0,1]:\n",
        "#     y_[y_==i] = 0\n",
        "\n",
        "# for i in [2,3]:\n",
        "#     y_[y_==i] = 1\n",
        "\n",
        "# print(y_)\n",
        "\n",
        "# for i in range(len(y_)):\n",
        "#     plt.plot(x_[i,0], x_[i,1], 'ro' if y_[i]==0 else 'bo')"
      ],
      "metadata": {
        "id": "XQONe5DDA6ra"
      },
      "execution_count": 47,
      "outputs": []
    },
    {
      "cell_type": "code",
      "source": [
        "# 자세한 파라미터 값을 무시\n",
        "# 작성하는 방식에 대해서 알아보자\n",
        "\n",
        "n_dim = 2 # 특성 갯수 지정\n",
        "x_train, y_train = make_blobs(n_samples=80, n_features=n_dim, centers=[[1,1],[-1,-1],[1,-1],[-1,1]], shuffle=True, cluster_std=0.3)\n",
        "x_test, y_test = make_blobs(n_samples=20, n_features=n_dim, centers=[[1,1],[-1,-1],[1,-1],[-1,1]], shuffle=True, cluster_std=0.3)"
      ],
      "metadata": {
        "id": "syV5sxl30Xdm"
      },
      "execution_count": null,
      "outputs": []
    },
    {
      "cell_type": "markdown",
      "source": [
        "# 데이터 탐색"
      ],
      "metadata": {
        "id": "JvIuTt2O43ly"
      }
    },
    {
      "cell_type": "code",
      "source": [
        "import pandas as pd\n",
        "\n",
        "y = pd.DataFrame(y_train)\n",
        "y.describe()"
      ],
      "metadata": {
        "id": "gOcMSm1k387E",
        "outputId": "ea366797-9313-4aa8-fca7-0a07d3b43982",
        "colab": {
          "base_uri": "https://localhost:8080/",
          "height": 300
        }
      },
      "execution_count": null,
      "outputs": [
        {
          "output_type": "execute_result",
          "data": {
            "text/plain": [
              "               0\n",
              "count  80.000000\n",
              "mean    1.500000\n",
              "std     1.125088\n",
              "min     0.000000\n",
              "25%     0.750000\n",
              "50%     1.500000\n",
              "75%     2.250000\n",
              "max     3.000000"
            ],
            "text/html": [
              "\n",
              "  <div id=\"df-c171acb3-2615-46db-a227-554cf603fee8\">\n",
              "    <div class=\"colab-df-container\">\n",
              "      <div>\n",
              "<style scoped>\n",
              "    .dataframe tbody tr th:only-of-type {\n",
              "        vertical-align: middle;\n",
              "    }\n",
              "\n",
              "    .dataframe tbody tr th {\n",
              "        vertical-align: top;\n",
              "    }\n",
              "\n",
              "    .dataframe thead th {\n",
              "        text-align: right;\n",
              "    }\n",
              "</style>\n",
              "<table border=\"1\" class=\"dataframe\">\n",
              "  <thead>\n",
              "    <tr style=\"text-align: right;\">\n",
              "      <th></th>\n",
              "      <th>0</th>\n",
              "    </tr>\n",
              "  </thead>\n",
              "  <tbody>\n",
              "    <tr>\n",
              "      <th>count</th>\n",
              "      <td>80.000000</td>\n",
              "    </tr>\n",
              "    <tr>\n",
              "      <th>mean</th>\n",
              "      <td>1.500000</td>\n",
              "    </tr>\n",
              "    <tr>\n",
              "      <th>std</th>\n",
              "      <td>1.125088</td>\n",
              "    </tr>\n",
              "    <tr>\n",
              "      <th>min</th>\n",
              "      <td>0.000000</td>\n",
              "    </tr>\n",
              "    <tr>\n",
              "      <th>25%</th>\n",
              "      <td>0.750000</td>\n",
              "    </tr>\n",
              "    <tr>\n",
              "      <th>50%</th>\n",
              "      <td>1.500000</td>\n",
              "    </tr>\n",
              "    <tr>\n",
              "      <th>75%</th>\n",
              "      <td>2.250000</td>\n",
              "    </tr>\n",
              "    <tr>\n",
              "      <th>max</th>\n",
              "      <td>3.000000</td>\n",
              "    </tr>\n",
              "  </tbody>\n",
              "</table>\n",
              "</div>\n",
              "      <button class=\"colab-df-convert\" onclick=\"convertToInteractive('df-c171acb3-2615-46db-a227-554cf603fee8')\"\n",
              "              title=\"Convert this dataframe to an interactive table.\"\n",
              "              style=\"display:none;\">\n",
              "        \n",
              "  <svg xmlns=\"http://www.w3.org/2000/svg\" height=\"24px\"viewBox=\"0 0 24 24\"\n",
              "       width=\"24px\">\n",
              "    <path d=\"M0 0h24v24H0V0z\" fill=\"none\"/>\n",
              "    <path d=\"M18.56 5.44l.94 2.06.94-2.06 2.06-.94-2.06-.94-.94-2.06-.94 2.06-2.06.94zm-11 1L8.5 8.5l.94-2.06 2.06-.94-2.06-.94L8.5 2.5l-.94 2.06-2.06.94zm10 10l.94 2.06.94-2.06 2.06-.94-2.06-.94-.94-2.06-.94 2.06-2.06.94z\"/><path d=\"M17.41 7.96l-1.37-1.37c-.4-.4-.92-.59-1.43-.59-.52 0-1.04.2-1.43.59L10.3 9.45l-7.72 7.72c-.78.78-.78 2.05 0 2.83L4 21.41c.39.39.9.59 1.41.59.51 0 1.02-.2 1.41-.59l7.78-7.78 2.81-2.81c.8-.78.8-2.07 0-2.86zM5.41 20L4 18.59l7.72-7.72 1.47 1.35L5.41 20z\"/>\n",
              "  </svg>\n",
              "      </button>\n",
              "      \n",
              "  <style>\n",
              "    .colab-df-container {\n",
              "      display:flex;\n",
              "      flex-wrap:wrap;\n",
              "      gap: 12px;\n",
              "    }\n",
              "\n",
              "    .colab-df-convert {\n",
              "      background-color: #E8F0FE;\n",
              "      border: none;\n",
              "      border-radius: 50%;\n",
              "      cursor: pointer;\n",
              "      display: none;\n",
              "      fill: #1967D2;\n",
              "      height: 32px;\n",
              "      padding: 0 0 0 0;\n",
              "      width: 32px;\n",
              "    }\n",
              "\n",
              "    .colab-df-convert:hover {\n",
              "      background-color: #E2EBFA;\n",
              "      box-shadow: 0px 1px 2px rgba(60, 64, 67, 0.3), 0px 1px 3px 1px rgba(60, 64, 67, 0.15);\n",
              "      fill: #174EA6;\n",
              "    }\n",
              "\n",
              "    [theme=dark] .colab-df-convert {\n",
              "      background-color: #3B4455;\n",
              "      fill: #D2E3FC;\n",
              "    }\n",
              "\n",
              "    [theme=dark] .colab-df-convert:hover {\n",
              "      background-color: #434B5C;\n",
              "      box-shadow: 0px 1px 3px 1px rgba(0, 0, 0, 0.15);\n",
              "      filter: drop-shadow(0px 1px 2px rgba(0, 0, 0, 0.3));\n",
              "      fill: #FFFFFF;\n",
              "    }\n",
              "  </style>\n",
              "\n",
              "      <script>\n",
              "        const buttonEl =\n",
              "          document.querySelector('#df-c171acb3-2615-46db-a227-554cf603fee8 button.colab-df-convert');\n",
              "        buttonEl.style.display =\n",
              "          google.colab.kernel.accessAllowed ? 'block' : 'none';\n",
              "\n",
              "        async function convertToInteractive(key) {\n",
              "          const element = document.querySelector('#df-c171acb3-2615-46db-a227-554cf603fee8');\n",
              "          const dataTable =\n",
              "            await google.colab.kernel.invokeFunction('convertToInteractive',\n",
              "                                                     [key], {});\n",
              "          if (!dataTable) return;\n",
              "\n",
              "          const docLinkHtml = 'Like what you see? Visit the ' +\n",
              "            '<a target=\"_blank\" href=https://colab.research.google.com/notebooks/data_table.ipynb>data table notebook</a>'\n",
              "            + ' to learn more about interactive tables.';\n",
              "          element.innerHTML = '';\n",
              "          dataTable['output_type'] = 'display_data';\n",
              "          await google.colab.output.renderOutput(dataTable, element);\n",
              "          const docLink = document.createElement('div');\n",
              "          docLink.innerHTML = docLinkHtml;\n",
              "          element.appendChild(docLink);\n",
              "        }\n",
              "      </script>\n",
              "    </div>\n",
              "  </div>\n",
              "  "
            ]
          },
          "metadata": {},
          "execution_count": 75
        }
      ]
    },
    {
      "cell_type": "code",
      "source": [
        "y.value_counts()"
      ],
      "metadata": {
        "id": "4E0EluE24oFB",
        "outputId": "fa462611-10c5-4ae3-99db-dd8b9206c7a7",
        "colab": {
          "base_uri": "https://localhost:8080/"
        }
      },
      "execution_count": null,
      "outputs": [
        {
          "output_type": "execute_result",
          "data": {
            "text/plain": [
              "0    20\n",
              "1    20\n",
              "2    20\n",
              "3    20\n",
              "dtype: int64"
            ]
          },
          "metadata": {},
          "execution_count": 76
        }
      ]
    },
    {
      "cell_type": "markdown",
      "source": [
        "# 로컬 함수들"
      ],
      "metadata": {
        "id": "LDrQaPtU49nL"
      }
    },
    {
      "cell_type": "code",
      "source": [
        "# y label이 4개 -> 2개로 바꿔주기 위한 작업\n",
        "def label_map(y_, from_, to_):\n",
        "    y = np.copy(y_)\n",
        "    for f in from_:\n",
        "        y[y_==f] = to_\n",
        "    return y\n",
        "\n",
        "y_train = label_map(y_train, [0,1], 0)\n",
        "y_train = label_map(y_train, [2,3], 1)\n",
        "y_test = label_map(y_test, [0,1], 0)\n",
        "y_test = label_map(y_test, [2,3], 1)"
      ],
      "metadata": {
        "id": "fACu_o-049ZK"
      },
      "execution_count": null,
      "outputs": []
    },
    {
      "cell_type": "code",
      "source": [
        "# 데이터가 제대로 레이블링 되었는지 확인하기 위해서 시각화\n",
        "def vis_data(x,y = None, c='r'):\n",
        "    if y is None:\n",
        "        y = [None] * len(x)\n",
        "    for x_, y_ in zip(x,y):\n",
        "        if y_ is None:\n",
        "            plt.plot(x_[0], x_[1], '*', markerfacecolor='none', markeredgecolor=c) # 2차원에 마크를 다르게 표시함으로 3차원 데이터를 표현\n",
        "        else:\n",
        "            plt.plot(x_[0], x_[1], c+'o' if y_==0 else c+'+')\n",
        "\n",
        "plt.figure()\n",
        "vis_data(x_train, y_train, c='r')\n",
        "plt.show()"
      ],
      "metadata": {
        "id": "jBSsoJ2aCPfw",
        "outputId": "9b90a774-ed2a-40d8-9103-e32f07def622",
        "colab": {
          "base_uri": "https://localhost:8080/",
          "height": 430
        }
      },
      "execution_count": null,
      "outputs": [
        {
          "output_type": "display_data",
          "data": {
            "text/plain": [
              "<Figure size 640x480 with 1 Axes>"
            ],
            "image/png": "[encoded data removed]"
          },
          "metadata": {}
        }
      ]
    },
    {
      "cell_type": "code",
      "source": [
        "# numpy type -> tensor type\n",
        "\n",
        "# x_train = torch.FloatTensor(x_train) # CPU 전용 tensor(dtyp=torch.float)\n",
        "x_train = torch.tensor(x_train, dtype=torch.float) # 범용적으로 쓰이는 텐서\n",
        "print(x_train.shape)\n",
        "x_test = torch.tensor(x_test, dtype=torch.float)\n",
        "y_train = torch.tensor(y_train, dtype=torch.float)\n",
        "y_test = torch.tensor(y_test, dtype=torch.float)"
      ],
      "metadata": {
        "id": "10O4WVNaEPKZ",
        "outputId": "b8966e83-dadf-455d-f7d0-b88a9e526fd3",
        "colab": {
          "base_uri": "https://localhost:8080/"
        }
      },
      "execution_count": null,
      "outputs": [
        {
          "output_type": "stream",
          "name": "stdout",
          "text": [
            "torch.Size([80, 2])\n"
          ]
        }
      ]
    },
    {
      "cell_type": "markdown",
      "source": [
        "# 신경망 모델 구현"
      ],
      "metadata": {
        "id": "8iCxwIDcInJU"
      }
    },
    {
      "cell_type": "code",
      "source": [
        "from torch import nn\n",
        "import torch.nn.functional as F\n",
        "\n",
        "class NeuralNet(nn.Module):\n",
        "    def __init__(self, input_size, hidden_size):\n",
        "        super().__init__()\n",
        "\n",
        "        self.input_size = input_size\n",
        "        self.hidden_size = hidden_size\n",
        "        self.linear = nn.Sequential(\n",
        "            nn.Linear(self.input_size, self.hidden_size),\n",
        "            nn.ReLU(),\n",
        "            nn.Linear(self.hidden_size, 1),\n",
        "            nn.Sigmoid()\n",
        "        )\n",
        "\n",
        "    def forward(self, x):\n",
        "        x = self.linear(x)\n",
        "        return x\n"
      ],
      "metadata": {
        "id": "TKzHrnr8ImL0"
      },
      "execution_count": 48,
      "outputs": []
    },
    {
      "cell_type": "code",
      "source": [
        "# 신경망 객체 생성 및 변수와 알고리즘 정의\n",
        "model = NeuralNet(2,5)\n",
        "learning_rate = 0.03\n",
        "crierion = torch.nn.BCELoss()\n",
        "epochs = 2000\n",
        "optimizer = torch.optim.Adam(model.parameters(), lr=learning_rate)"
      ],
      "metadata": {
        "id": "8a7ZrCOZKP-V"
      },
      "execution_count": null,
      "outputs": []
    },
    {
      "cell_type": "code",
      "source": [
        "# 학습 안한 모델 성능 확인\n",
        "model.eval()\n",
        "test_loss_before = crierion(model(x_test).squeeze(), y_test) # model(x_test) : ([20,1]), y_test : ([20]) 이라서 squeeze 진행\n",
        "print(f'Before Training, test loss is {test_loss_before.item()}')"
      ],
      "metadata": {
        "id": "o6uWOuawLwBK",
        "outputId": "00c257d7-b96b-40e2-d78b-39b930a8a601",
        "colab": {
          "base_uri": "https://localhost:8080/"
        }
      },
      "execution_count": null,
      "outputs": [
        {
          "output_type": "stream",
          "name": "stdout",
          "text": [
            "Before Training, test loss is 0.7370400428771973\n"
          ]
        }
      ]
    },
    {
      "cell_type": "code",
      "source": [
        "for epoch in range(1,epochs+1):\n",
        "    # 여기에 dataloader를 통해서 batch_size를 설정하지 않았으므로, 모든 데이터를 한번에 넣어서 한번 학습시키는 형태로 보인다\n",
        "    model.train()\n",
        "    \n",
        "    loss = crierion(model(x_train).squeeze(), y_train) # 학습 루프 내부에 있어야 실시간으로 변화를 파악할 수 있음\n",
        "    if epoch % 100 == 0:\n",
        "        print(f'learning at {epoch} : {loss.item()}')\n",
        "\n",
        "    optimizer.zero_grad()\n",
        "    loss.backward()\n",
        "    optimizer.step()"
      ],
      "metadata": {
        "id": "iDbIgzWgOAxa",
        "outputId": "4efd44d7-998d-404e-a6bd-d0a0be5c7979",
        "colab": {
          "base_uri": "https://localhost:8080/"
        }
      },
      "execution_count": null,
      "outputs": [
        {
          "output_type": "stream",
          "name": "stdout",
          "text": [
            "learning at 100 : 0.012317972257733345\n",
            "learning at 200 : 0.003011984284967184\n",
            "learning at 300 : 0.0014556574169546366\n",
            "learning at 400 : 0.0008860438247211277\n",
            "learning at 500 : 0.0006023942260071635\n",
            "learning at 600 : 0.0004385857318993658\n",
            "learning at 700 : 0.0003343171556480229\n",
            "learning at 800 : 0.00026331940898671746\n",
            "learning at 900 : 0.00021304466645233333\n",
            "learning at 1000 : 0.00017622097220737487\n",
            "learning at 1100 : 0.00014799993368797004\n",
            "learning at 1200 : 0.00012588953541126102\n",
            "learning at 1300 : 0.00010823687625816092\n",
            "learning at 1400 : 9.390805644216016e-05\n",
            "learning at 1500 : 8.212800457840785e-05\n",
            "learning at 1600 : 7.232235657284036e-05\n",
            "learning at 1700 : 6.407350156223401e-05\n",
            "learning at 1800 : 5.7072622439591214e-05\n",
            "learning at 1900 : 5.108485493110493e-05\n",
            "learning at 2000 : 4.5932734792586416e-05\n"
          ]
        }
      ]
    },
    {
      "cell_type": "markdown",
      "source": [
        "## <이상할 경우 확인해 볼 것!>\n",
        "\n",
        "데이터를 이상한걸 불러왔다면, 모델이 제대로 되어도 학습이 진행 안될 수 있다! 실제로 데이터의 cluster 수치를 지정하지 않았더니 0.5 정도에서 멈추는걸 볼 수 있었음\n",
        "\n",
        "데이터가 이상하면 패턴을 발견하지 못하는게 당연"
      ],
      "metadata": {
        "id": "uxyBMIV5RXAI"
      }
    },
    {
      "cell_type": "code",
      "source": [
        "model.eval()\n",
        "test_loss_after = crierion(model(x_test).squeeze(), y_test)\n",
        "print(f'After Training, test loss is {test_loss_after.item()}')"
      ],
      "metadata": {
        "id": "f9ORKttSPLdT",
        "outputId": "4f7aa53e-dd48-4a48-bb33-23018cb80f60",
        "colab": {
          "base_uri": "https://localhost:8080/"
        }
      },
      "execution_count": null,
      "outputs": [
        {
          "output_type": "stream",
          "name": "stdout",
          "text": [
            "After Training, test loss is 0.00019901877385564148\n"
          ]
        }
      ]
    },
    {
      "cell_type": "code",
      "source": [
        "# 학습 모델을 .pt형태로 저장\n",
        "torch.save(model.state_dict(), './model.pt')\n",
        "# state_dict()함수는 모델 내 가중치들이 딕셔너리 형태로 {레이어 이름: 가중치 텐서와 편향 텐서}와 같이 표현된 데이터\n",
        "print(f'state_dict format of the model: {model.state_dict()}')"
      ],
      "metadata": {
        "id": "Ue7P7LIiRlxw",
        "outputId": "5b8acdd1-7ab0-42a6-b198-c20710f59bbe",
        "colab": {
          "base_uri": "https://localhost:8080/"
        }
      },
      "execution_count": null,
      "outputs": [
        {
          "output_type": "stream",
          "name": "stdout",
          "text": [
            "state_dict format of the model: OrderedDict([('linear.0.weight', tensor([[ 2.2096,  2.2211],\n",
            "        [ 3.4272, -3.3436],\n",
            "        [-2.6870, -2.6325],\n",
            "        [ 1.6983,  2.8121],\n",
            "        [-3.2077,  3.4507]])), ('linear.0.bias', tensor([-0.6402, -0.0234,  0.8337, -0.4193, -0.0439])), ('linear.2.weight', tensor([[-3.0974,  3.2982, -2.5200, -1.7240,  2.8643]])), ('linear.2.bias', tensor([-1.2703]))])\n"
          ]
        }
      ]
    },
    {
      "cell_type": "code",
      "source": [
        "# 저장된 모델 정보를 불러와서 학습 생략하는 방법\n",
        "new_model = NeuralNet(2,5)\n",
        "new_model.load_state_dict(torch.load('./model.pt'))\n",
        "new_model.eval()\n",
        "print(f'벡터 [-1, 1]이 레이블 1을 가질 확률은 {new_model(torch.FloatTensor([-1,1])).item()}')"
      ],
      "metadata": {
        "id": "KRaUi8dQVduA",
        "outputId": "a703fcde-2e3c-480d-c04c-4f642de76292",
        "colab": {
          "base_uri": "https://localhost:8080/"
        }
      },
      "execution_count": null,
      "outputs": [
        {
          "output_type": "stream",
          "name": "stdout",
          "text": [
            "벡터 [-1, 1]이 레이블 1을 가질 확률은 0.9999994039535522\n"
          ]
        }
      ]
    }
  ]
}