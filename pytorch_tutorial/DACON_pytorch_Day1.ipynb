{
  "nbformat": 4,
  "nbformat_minor": 0,
  "metadata": {
    "colab": {
      "provenance": [],
      "machine_shape": "hm",
      "authorship_tag": "ABX9TyP5uNJrlLFOoWPuaEvHLlbj",
      "include_colab_link": true
    },
    "kernelspec": {
      "name": "python3",
      "display_name": "Python 3"
    },
    "language_info": {
      "name": "python"
    },
    "accelerator": "GPU",
    "gpuClass": "standard"
  },
  "cells": [
    {
      "cell_type": "markdown",
      "metadata": {
        "id": "view-in-github",
        "colab_type": "text"
      },
      "source": [
        "<a href=\"https://colab.research.google.com/github/hwarang97/hukppenhiem/blob/main/DACON_pytorch_Day1.ipynb\" target=\"_parent\"><img src=\"https://colab.research.google.com/assets/colab-badge.svg\" alt=\"Open In Colab\"/></a>"
      ]
    },
    {
      "cell_type": "markdown",
      "source": [
        "# Link\n",
        "\n",
        "link : https://dacon.io/codeshare/4478"
      ],
      "metadata": {
        "id": "K35IRL6rZVAW"
      }
    },
    {
      "cell_type": "markdown",
      "source": [
        "# Libraries"
      ],
      "metadata": {
        "id": "oTm5L_6qOruD"
      }
    },
    {
      "cell_type": "code",
      "execution_count": 1,
      "metadata": {
        "id": "_-UkRV4oi4YZ"
      },
      "outputs": [],
      "source": [
        "import torch\n",
        "import matplotlib.pyplot as plt\n",
        "import PIL\n",
        "import torchvision.transforms as transforms"
      ]
    },
    {
      "cell_type": "markdown",
      "source": [
        "# Hyper-parameter"
      ],
      "metadata": {
        "id": "FnZFNU6iTtxr"
      }
    },
    {
      "cell_type": "code",
      "source": [
        "shp_original_img=(100,100)\n",
        "lr = 0.8"
      ],
      "metadata": {
        "id": "Ls8_JskZTwij"
      },
      "execution_count": 2,
      "outputs": []
    },
    {
      "cell_type": "markdown",
      "source": [
        "# Loading Images"
      ],
      "metadata": {
        "id": "65kyy5orOuKa"
      }
    },
    {
      "cell_type": "code",
      "source": [
        "original_image = PIL.Image.open('./Eiffel.jpg') # 아무 이미지 받아서 사용하면 됌\n",
        "# original_image.show()\n",
        "\n",
        "tf = transforms.ToTensor()\n",
        "original_img = tf(original_image)\n",
        "original_img_re = transforms.functional.resize(original_img, shp_original_img)\n",
        "print(type(original_img_re))\n",
        "print(original_img_re.shape)"
      ],
      "metadata": {
        "colab": {
          "base_uri": "https://localhost:8080/"
        },
        "id": "fVnPK87Di__M",
        "outputId": "04f80d04-a128-4e92-dcd6-ad920b385215"
      },
      "execution_count": 3,
      "outputs": [
        {
          "output_type": "stream",
          "name": "stdout",
          "text": [
            "<class 'torch.Tensor'>\n",
            "torch.Size([3, 100, 100])\n"
          ]
        },
        {
          "output_type": "stream",
          "name": "stderr",
          "text": [
            "/usr/local/lib/python3.9/dist-packages/torchvision/transforms/functional.py:1603: UserWarning: The default value of the antialias parameter of all the resizing transforms (Resize(), RandomResizedCrop(), etc.) will change from None to True in v0.17, in order to be consistent across the PIL and Tensor backends. To suppress this warning, directly pass antialias=True (recommended, future default), antialias=None (current default, which means False for Tensors and True for PIL), or antialias=False (only works on Tensors - PIL will still use antialiasing). This also applies if you are using the inference transforms from the models weights: update the call to weights.transforms(antialias=True).\n",
            "  warnings.warn(\n"
          ]
        }
      ]
    },
    {
      "cell_type": "code",
      "source": [
        "# 제대로 사이즈 조정이 되었는지 확인\n",
        "retf = transforms.ToPILImage()\n",
        "original_image_re = retf(original_img_re)\n",
        "print(original_image_re)\n",
        "original_image_re.show()"
      ],
      "metadata": {
        "colab": {
          "base_uri": "https://localhost:8080/",
          "height": 135
        },
        "id": "j21YIkZUl-P4",
        "outputId": "09bb657b-fc4f-4edd-f0ba-448786e70b47"
      },
      "execution_count": 4,
      "outputs": [
        {
          "output_type": "stream",
          "name": "stdout",
          "text": [
            "<PIL.Image.Image image mode=RGB size=100x100 at 0x7F93F077E8B0>\n"
          ]
        },
        {
          "output_type": "display_data",
          "data": {
            "text/plain": [
              "<PIL.Image.Image image mode=RGB size=100x100 at 0x7F93F077E8B0>"
            ],
            "image/png": "[encoded data removed]"
          },
          "metadata": {}
        }
      ]
    },
    {
      "cell_type": "markdown",
      "source": [
        "# Local Functions"
      ],
      "metadata": {
        "id": "zBG8aFkCOz6b"
      }
    },
    {
      "cell_type": "code",
      "source": [
        "# 이미지를 오염시키는 함수\n",
        "def weird_function(x, n_iter=5):\n",
        "    h = x    \n",
        "    filt = torch.tensor([-1./3, 1./3, -1./3])\n",
        "    for i in range(n_iter):\n",
        "        zero_tensor = torch.tensor([1.0*0])\n",
        "        h_l = torch.cat( (zero_tensor, h[:-1]), 0)\n",
        "        h_r = torch.cat((h[1:], zero_tensor), 0 )\n",
        "        h = filt[0] * h + filt[2] * h_l + filt[1] * h_r\n",
        "        if i % 2 == 0:\n",
        "            h = torch.cat( (h[h.shape[0]//2:],h[:h.shape[0]//2]), 0  )\n",
        "    return h\n",
        "\n",
        "# 두 이미지의 차이를 측정하는 함수\n",
        "def distance_loss(hypothesis, broken_image):    \n",
        "    return torch.dist(hypothesis, broken_image) "
      ],
      "metadata": {
        "id": "IC0VN1cfI8-b"
      },
      "execution_count": 5,
      "outputs": []
    },
    {
      "cell_type": "markdown",
      "source": [
        "# Get Weired Image "
      ],
      "metadata": {
        "id": "66A-rXziO41b"
      }
    },
    {
      "cell_type": "code",
      "source": [
        "# 오염된 이미지 생성\n",
        "\n",
        "'''\n",
        "weird_function 을 사용하기 위해서는 이미지를 1D tensor로 바꾸어줘서 적용해야하는듯\n",
        "채널 또한 1개로 바꿔줘야한다.\n",
        "'''\n",
        "\n",
        "original_img_tf=original_img_re.view(3,-1)[0] # (3,10000) 에서 하나를 가져감\n",
        "# print(original_img_tf)\n",
        "# print(original_img_tf.shape)\n",
        "\n",
        "# 오염된 이미지 텐서 생성\n",
        "weird_img_tf = weird_function(original_img_tf)\n",
        "# print(weird_img_tf)\n",
        "# print(weird_img.shape)"
      ],
      "metadata": {
        "id": "Pjh6TUG0JyHw"
      },
      "execution_count": 6,
      "outputs": []
    },
    {
      "cell_type": "markdown",
      "source": [
        "## <복습. 왜 reshape가 아닌 view>\n",
        "\n",
        "reshape : 기존 텐서를 변형함(재활용)   \n",
        "view : 기존 데이터를 두고 새로운 텐서를 생성 후 반환(새텐서)   \n",
        "\n",
        "여기서는 둘 중 아무거나 사용해도 상관없지만, 새로 배운 view를 쓰고 싶어서 적용해봄"
      ],
      "metadata": {
        "id": "0VVdENuiOX9x"
      }
    },
    {
      "cell_type": "code",
      "source": [
        "# 무작위 텐서 생성\n",
        "random_tensor = torch.randn(10000, dtype=torch.float) # -> weird_function 에 넣기 위해서 1D tensor 꼴로 바꿈"
      ],
      "metadata": {
        "id": "pClbdEQ5JHXV"
      },
      "execution_count": null,
      "outputs": []
    },
    {
      "cell_type": "code",
      "source": [
        "import torch\n",
        "\n",
        "# x= torch.tensor(2.)\n",
        "x= torch.tensor(2., requires_grad=True)\n",
        "\n",
        "for _ in range(1):\n",
        "\n",
        "    y = x**2\n",
        "    z = 3*(y**4)\n",
        "    z.backward()\n",
        "    grad = x.grad\n",
        "    print(grad)"
      ],
      "metadata": {
        "id": "DKA0nkvwmkYb",
        "outputId": "f54fff07-153a-4c21-c5af-766f664142a1",
        "colab": {
          "base_uri": "https://localhost:8080/"
        }
      },
      "execution_count": null,
      "outputs": [
        {
          "output_type": "stream",
          "name": "stdout",
          "text": [
            "<class 'torch.Tensor'>\n",
            "None\n"
          ]
        }
      ]
    },
    {
      "cell_type": "code",
      "source": [
        "# 경사하강법\n",
        "\n",
        "loss_history = [] # loss 변화를 보기 위해서 설정한 변수\n",
        "\n",
        "for i in range(20000):\n",
        "    random_tensor.requires_grad_(True) # computational gragh를 그리기 시작 (random_tensor는 leaf node)\n",
        "    hypothesis = weird_function(random_tensor)\n",
        "    loss = distance_loss(weird_img_tf, hypothesis)\n",
        "\n",
        "    loss_history += [loss.item()]\n",
        "\n",
        "    # grad 초기화\n",
        "    # random_tensor.grad = None # 딱히 결과적으로 차이는 없어보이는데\n",
        "\n",
        "    loss.backward() # 미분 실행. backward(), autograd.grad()를 실행하면 그래프 중간값이 사라진다고함\n",
        "    grad = random_tensor.grad\n",
        "\n",
        "    # 직접 경사하강법을 구현해보기 위해 grad를 안씀\n",
        "    with torch.no_grad(): # lear node를 유지하기 위해서 + 메모리 낭비(grad_fn)을 없애기 위해\n",
        "        random_tensor = random_tensor-lr*random_tensor # 여기서 random_tensor가 새롭게 초기화가 되면서 grad값이 None으로 설정\n",
        "\n",
        "    if i%1000 == 0:\n",
        "        # print(f'loss at {i} : {loss.item()}')\n",
        "        # print(f'grad at {i} : {torch.linalg.vector_norm(random_tensor.grad)}') # 위에서 random_tensor 값을 새롭게 초기화했으므로 grad 값은 None으로 되어있음\n",
        "        # print(f'grad at {i} : {torch.linalg.vector_norm(grad)}')"
      ],
      "metadata": {
        "id": "qWdc4HVgJYvd",
        "outputId": "079dd29d-9df3-4954-92b7-64175c1ec69f",
        "colab": {
          "base_uri": "https://localhost:8080/",
          "height": 137
        }
      },
      "execution_count": 4,
      "outputs": [
        {
          "output_type": "error",
          "ename": "IndentationError",
          "evalue": "ignored",
          "traceback": [
            "\u001b[0;36m  File \u001b[0;32m\"<ipython-input-4-bfb0ed103361>\"\u001b[0;36m, line \u001b[0;32m25\u001b[0m\n\u001b[0;31m    # print(f'grad at {i} : {torch.linalg.vector_norm(grad)}')\u001b[0m\n\u001b[0m                                                              ^\u001b[0m\n\u001b[0;31mIndentationError\u001b[0m\u001b[0;31m:\u001b[0m expected an indented block\n"
          ]
        }
      ]
    },
    {
      "cell_type": "code",
      "source": [
        "a = torch.tensor([[1., 2., 3., 4.],\n",
        "                 [-1.,-2.,-3.,-4]])\n",
        "\n",
        "print(torch.linalg.matrix_norm(a))\n",
        "\n",
        "\n",
        "b = torch.tensor([[1.,2.,3.,4.,5.,6.],\n",
        "                  [-1.,-2.,-3.,-4.,-5.,-6.]])\n",
        "\n",
        "print(torch.linalg.matrix_norm(b))"
      ],
      "metadata": {
        "id": "x_dxgjhyCOUm",
        "outputId": "72fa7519-ac67-46b1-f2f5-e24ebc849a34",
        "colab": {
          "base_uri": "https://localhost:8080/"
        }
      },
      "execution_count": null,
      "outputs": [
        {
          "output_type": "stream",
          "name": "stdout",
          "text": [
            "tensor(7.7460)\n",
            "tensor(13.4907)\n"
          ]
        }
      ]
    },
    {
      "cell_type": "markdown",
      "source": [
        "## <추가학습. leaf node>\n",
        "\n",
        "lear node : If our Tensor is a leaf node (initialised by the user), then the grad_fn is also None. (사용자에 의해 설정된 값을 갖는 텐서, 그러면 grad_fn이 None으로 설정된다)\n",
        "\n",
        "\n",
        "\n",
        "관련 링크 : https://bnikolic.co.uk/blog/pytorch/python/2021/03/15/pytorch-leaf.html \n",
        "\n",
        "https://discuss.pytorch.org/t/what-is-the-purpose-of-is-leaf/87000/2\n",
        "\n",
        "with torch.no_grad()를 해제하니까 \n",
        "\n",
        "1번은 실행되지만, 2번째 실행될 때 문제가 발생\n",
        "\n",
        "- 원인은 random\\_tensor가 requires\\_grad=True인 상태로 계산이 되면 자기 자신으로 연산이 들어가 더 이상 leaf node가 아니게 된다. 따라서 loss.backward() 부분에서 leaf node가 사라지게 되어 미분이 진행되지 않는것으로 보인다.\n",
        "\n",
        "<경고문1>\n",
        "\n",
        "'UserWarning: The .grad attribute of a Tensor that is not a leaf Tensor is being accessed. Its .grad attribute won't be populated during autograd.backward(). If you indeed want the .grad field to be populated for a non-leaf Tensor, use .retain_grad() on the non-leaf Tensor. If you access the non-leaf Tensor by mistake, make sure you access the leaf Tensor instead. See github.com/pytorch/pytorch/pull/30531 for more informations. (Triggered internally at aten/src/ATen/core/TensorBody.h:486.) grad = random_tensor.grad'\n",
        "\n",
        "  경고문이 뜨면서 문제 발생\n",
        "\n",
        "  <경고문 아래 상세내용>\n",
        "\n",
        "  Trying to backward through the graph a second time (or directly access saved tensors after they have already been freed). Saved intermediate values of the graph are freed when you call .backward() or autograd.grad(). Specify retain_graph=True if you need to backward through the graph a second time or if you need to access saved tensors after calling backward."
      ],
      "metadata": {
        "id": "5vafjUNBu1pk"
      }
    },
    {
      "cell_type": "markdown",
      "source": [
        "## <추가학습> grad를 초기화하지 않고 진행했으므로, 기울기값이 계속 커져서 loss 그래프가 이상하게 변하지 않았을까 확인해보자\n",
        "\n",
        "- random_tensor = random_tensor-lr*random_tensor # 여기서 random_tensor가 새롭게 초기화가 되면서 grad값이 None으로 설정이 되어 값이 누적이 안되는것이다!!!"
      ],
      "metadata": {
        "id": "qhRYzaXcpZ_D"
      }
    },
    {
      "cell_type": "code",
      "source": [
        "import matplotlib.pyplot as plt\n",
        "\n",
        "plt.plot(range(1,20000+1), loss_history)\n",
        "plt.xlabel('Epochs')\n",
        "plt.ylabel('loss')\n",
        "plt.show"
      ],
      "metadata": {
        "id": "DMBtq6kipnY7",
        "outputId": "5eeb9fe5-9f2a-4d65-ea62-6f2af52fcf3d",
        "colab": {
          "base_uri": "https://localhost:8080/",
          "height": 467
        }
      },
      "execution_count": null,
      "outputs": [
        {
          "output_type": "execute_result",
          "data": {
            "text/plain": [
              "<function matplotlib.pyplot.show(close=None, block=None)>"
            ]
          },
          "metadata": {},
          "execution_count": 42
        },
        {
          "output_type": "display_data",
          "data": {
            "text/plain": [
              "<Figure size 640x480 with 1 Axes>"
            ],
            "image/png": "[encoded data removed]"
          },
          "metadata": {}
        }
      ]
    },
    {
      "cell_type": "markdown",
      "source": [
        "## <복습. tensor 값 접근>\n",
        "Tensor.item을 이용하면 됨\n"
      ],
      "metadata": {
        "id": "WgpZ6kBdWCRY"
      }
    },
    {
      "cell_type": "code",
      "source": [
        "a = torch.tensor([1.])\n",
        "print(a)"
      ],
      "metadata": {
        "id": "OEJtJZYZWIJ4"
      },
      "execution_count": null,
      "outputs": []
    },
    {
      "cell_type": "markdown",
      "source": [
        "# 실제로 잘 복원했는지 확인"
      ],
      "metadata": {
        "id": "jQGgYEMVZ4tQ"
      }
    },
    {
      "cell_type": "code",
      "source": [
        "# 방법1 (pyplot을 이용). 장점은 나름 컬러화\n",
        "plt.imshow(random_tensor.view(100,100).data)"
      ],
      "metadata": {
        "id": "f8lPZ6KlZ3y9",
        "outputId": "1a2ea472-071c-4076-e0b5-7f2b47c96d55",
        "colab": {
          "base_uri": "https://localhost:8080/",
          "height": 451
        }
      },
      "execution_count": null,
      "outputs": [
        {
          "output_type": "execute_result",
          "data": {
            "text/plain": [
              "<matplotlib.image.AxesImage at 0x7fd96f99b670>"
            ]
          },
          "metadata": {},
          "execution_count": 11
        },
        {
          "output_type": "display_data",
          "data": {
            "text/plain": [
              "<Figure size 640x480 with 1 Axes>"
            ],
            "image/png": "[encoded data removed]"
          },
          "metadata": {}
        }
      ]
    },
    {
      "cell_type": "code",
      "source": [
        "# 방법2\n",
        "# print(random_tensor.shape)\n",
        "retf = transforms.ToPILImage()\n",
        "random_tensor_image = retf(random_tensor.view(100,100)) # 행렬꼴로 바꾸어는 주어야 함\n",
        "print(random_tensor_image)\n",
        "random_tensor_image.show()"
      ],
      "metadata": {
        "id": "ttOCbR75bJaU",
        "outputId": "8d27c165-53a1-4ee1-86f5-084e89581af5",
        "colab": {
          "base_uri": "https://localhost:8080/",
          "height": 135
        }
      },
      "execution_count": null,
      "outputs": [
        {
          "output_type": "stream",
          "name": "stdout",
          "text": [
            "<PIL.Image.Image image mode=L size=100x100 at 0x7FD96F99B400>\n"
          ]
        },
        {
          "output_type": "display_data",
          "data": {
            "text/plain": [
              "<PIL.Image.Image image mode=L size=100x100 at 0x7FD96F99B400>"
            ],
            "image/png": "[encoded data removed]"
          },
          "metadata": {}
        }
      ]
    },
    {
      "cell_type": "markdown",
      "source": [
        "## 심화학습 (인공신경망으로 구현해보기)"
      ],
      "metadata": {
        "id": "BqV4T14TC5_q"
      }
    },
    {
      "cell_type": "markdown",
      "source": [
        "구현하는데 RAM 문제가 떠서 일단 중단"
      ],
      "metadata": {
        "id": "P195uRN8LXlB"
      }
    },
    {
      "cell_type": "code",
      "source": [
        "#import torch\n",
        "from torch import nn\n",
        "from torch import optim\n",
        "\n",
        "class mynn(nn.Module):\n",
        "    def __init__(self):\n",
        "        super().__init__()\n",
        "\n",
        "        self.Linear = nn.Sequential(\n",
        "            nn.Linear(10000, 20000),\n",
        "            nn.ReLU(),\n",
        "            nn.Linear(20000, 40000),\n",
        "            nn.ReLU(),\n",
        "            nn.Linear(40000, 20000),\n",
        "            nn.ReLU(),\n",
        "            nn.Linear(20000, 10000),\n",
        "            nn.ReLU(),\n",
        "        )\n",
        "    \n",
        "    def forward(self, x):\n",
        "        x = self.Linear(x)\n",
        "        return x\n",
        "\n",
        "model = mynn()\n",
        "x = torch.randn(10000)\n",
        "y = model(x)"
      ],
      "metadata": {
        "id": "AWS3qRE4C8lM"
      },
      "execution_count": 9,
      "outputs": []
    },
    {
      "cell_type": "code",
      "source": [
        "# hyper parameters\n",
        "LR = 0.8\n",
        "EPOCH = 2000"
      ],
      "metadata": {
        "id": "IQq7nOTYErnO"
      },
      "execution_count": 10,
      "outputs": []
    },
    {
      "cell_type": "code",
      "source": [
        "hypothesis = weird_function(x)\n",
        "loss = distance_loss(weird_img_tf, hypothesis)\n",
        "optimizer = optim.Adam(model.parameters(), lr=LR)\n",
        "loss_history = []\n",
        "model = mynn()\n",
        "x = torch.randn(10000)"
      ],
      "metadata": {
        "id": "obaJxbVqECj1"
      },
      "execution_count": 11,
      "outputs": []
    },
    {
      "cell_type": "code",
      "source": [
        "model.train()\n",
        "\n",
        "for ep in range(1, EPOCH+1):\n",
        "    y_hat = model(x)\n",
        "    optimizer.zero_grad()\n",
        "    loss.backward()\n",
        "    optimizer.step()\n",
        "    loss_history += [loss.item()]\n",
        "    print(f\"Epoch: {ep+1}, train loss: {round(loss.item(),3)}\")\n",
        "    print(\"-\"*20)"
      ],
      "metadata": {
        "id": "HZq97Q1mE4w2",
        "outputId": "4ea56792-5dc4-4c45-8ef8-7ed940d78d2a",
        "colab": {
          "base_uri": "https://localhost:8080/",
          "height": 455
        }
      },
      "execution_count": 12,
      "outputs": [
        {
          "output_type": "error",
          "ename": "RuntimeError",
          "evalue": "ignored",
          "traceback": [
            "\u001b[0;31m---------------------------------------------------------------------------\u001b[0m",
            "\u001b[0;31mRuntimeError\u001b[0m                              Traceback (most recent call last)",
            "\u001b[0;32m<ipython-input-12-33564da026b5>\u001b[0m in \u001b[0;36m<cell line: 3>\u001b[0;34m()\u001b[0m\n\u001b[1;32m      4\u001b[0m     \u001b[0my_hat\u001b[0m \u001b[0;34m=\u001b[0m \u001b[0mmodel\u001b[0m\u001b[0;34m(\u001b[0m\u001b[0mx\u001b[0m\u001b[0;34m)\u001b[0m\u001b[0;34m\u001b[0m\u001b[0;34m\u001b[0m\u001b[0m\n\u001b[1;32m      5\u001b[0m     \u001b[0moptimizer\u001b[0m\u001b[0;34m.\u001b[0m\u001b[0mzero_grad\u001b[0m\u001b[0;34m(\u001b[0m\u001b[0;34m)\u001b[0m\u001b[0;34m\u001b[0m\u001b[0;34m\u001b[0m\u001b[0m\n\u001b[0;32m----> 6\u001b[0;31m     \u001b[0mloss\u001b[0m\u001b[0;34m.\u001b[0m\u001b[0mbackward\u001b[0m\u001b[0;34m(\u001b[0m\u001b[0;34m)\u001b[0m\u001b[0;34m\u001b[0m\u001b[0;34m\u001b[0m\u001b[0m\n\u001b[0m\u001b[1;32m      7\u001b[0m     \u001b[0moptimizer\u001b[0m\u001b[0;34m.\u001b[0m\u001b[0mstep\u001b[0m\u001b[0;34m(\u001b[0m\u001b[0;34m)\u001b[0m\u001b[0;34m\u001b[0m\u001b[0;34m\u001b[0m\u001b[0m\n\u001b[1;32m      8\u001b[0m     \u001b[0mloss_history\u001b[0m \u001b[0;34m+=\u001b[0m \u001b[0;34m[\u001b[0m\u001b[0mloss\u001b[0m\u001b[0;34m.\u001b[0m\u001b[0mitem\u001b[0m\u001b[0;34m(\u001b[0m\u001b[0;34m)\u001b[0m\u001b[0;34m]\u001b[0m\u001b[0;34m\u001b[0m\u001b[0;34m\u001b[0m\u001b[0m\n",
            "\u001b[0;32m/usr/local/lib/python3.9/dist-packages/torch/_tensor.py\u001b[0m in \u001b[0;36mbackward\u001b[0;34m(self, gradient, retain_graph, create_graph, inputs)\u001b[0m\n\u001b[1;32m    485\u001b[0m                 \u001b[0minputs\u001b[0m\u001b[0;34m=\u001b[0m\u001b[0minputs\u001b[0m\u001b[0;34m,\u001b[0m\u001b[0;34m\u001b[0m\u001b[0;34m\u001b[0m\u001b[0m\n\u001b[1;32m    486\u001b[0m             )\n\u001b[0;32m--> 487\u001b[0;31m         torch.autograd.backward(\n\u001b[0m\u001b[1;32m    488\u001b[0m             \u001b[0mself\u001b[0m\u001b[0;34m,\u001b[0m \u001b[0mgradient\u001b[0m\u001b[0;34m,\u001b[0m \u001b[0mretain_graph\u001b[0m\u001b[0;34m,\u001b[0m \u001b[0mcreate_graph\u001b[0m\u001b[0;34m,\u001b[0m \u001b[0minputs\u001b[0m\u001b[0;34m=\u001b[0m\u001b[0minputs\u001b[0m\u001b[0;34m\u001b[0m\u001b[0;34m\u001b[0m\u001b[0m\n\u001b[1;32m    489\u001b[0m         )\n",
            "\u001b[0;32m/usr/local/lib/python3.9/dist-packages/torch/autograd/__init__.py\u001b[0m in \u001b[0;36mbackward\u001b[0;34m(tensors, grad_tensors, retain_graph, create_graph, grad_variables, inputs)\u001b[0m\n\u001b[1;32m    198\u001b[0m     \u001b[0;31m# some Python versions print out the first line of a multi-line function\u001b[0m\u001b[0;34m\u001b[0m\u001b[0;34m\u001b[0m\u001b[0m\n\u001b[1;32m    199\u001b[0m     \u001b[0;31m# calls in the traceback and some print out the last line\u001b[0m\u001b[0;34m\u001b[0m\u001b[0;34m\u001b[0m\u001b[0m\n\u001b[0;32m--> 200\u001b[0;31m     Variable._execution_engine.run_backward(  # Calls into the C++ engine to run the backward pass\n\u001b[0m\u001b[1;32m    201\u001b[0m         \u001b[0mtensors\u001b[0m\u001b[0;34m,\u001b[0m \u001b[0mgrad_tensors_\u001b[0m\u001b[0;34m,\u001b[0m \u001b[0mretain_graph\u001b[0m\u001b[0;34m,\u001b[0m \u001b[0mcreate_graph\u001b[0m\u001b[0;34m,\u001b[0m \u001b[0minputs\u001b[0m\u001b[0;34m,\u001b[0m\u001b[0;34m\u001b[0m\u001b[0;34m\u001b[0m\u001b[0m\n\u001b[1;32m    202\u001b[0m         allow_unreachable=True, accumulate_grad=True)  # Calls into the C++ engine to run the backward pass\n",
            "\u001b[0;31mRuntimeError\u001b[0m: element 0 of tensors does not require grad and does not have a grad_fn"
          ]
        }
      ]
    }
  ]
}